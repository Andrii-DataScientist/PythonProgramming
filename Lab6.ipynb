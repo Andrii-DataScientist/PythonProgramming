{
 "cells": [
  {
   "cell_type": "markdown",
   "metadata": {},
   "source": [
    "Source: DataCamp.com, RealPython.com"
   ]
  },
  {
   "cell_type": "markdown",
   "metadata": {},
   "source": [
    "## Review exercises:\n",
    "- Use a `break` statement to write a script that prompts the users for input repeatedly, only ending when the user types \"q\" or \"Q\" to quit the program; a common way of creating an infinite loop is to write `while True:`.\n",
    "- Combine a `for` loop over a `range()` of numbers with the `continue` keyword to print every number from 1 through 50 except for multiples of 3; you will need to use the `%` operator."
   ]
  },
  {
   "cell_type": "code",
   "execution_count": 1,
   "metadata": {
    "cocalc": {
     "outputs": {
      "0": {
       "name": "input",
       "opts": {
        "password": false,
        "prompt": "Input something:"
       },
       "output_type": "stream",
       "value": "q"
      },
      "1": {
       "name": "input",
       "opts": {
        "password": false,
        "prompt": "Input something:"
       },
       "output_type": "stream",
       "value": "Q"
      },
      "2": {
       "name": "input",
       "opts": {
        "password": false,
        "prompt": "Input something:"
       },
       "output_type": "stream",
       "value": "mate"
      },
      "3": {
       "name": "input",
       "opts": {
        "password": false,
        "prompt": "Input something:"
       },
       "output_type": "stream",
       "value": "Q"
      }
     }
    }
   },
   "outputs": [
    {
     "name": "stdout",
     "output_type": "stream",
     "text": [
      "Input something: q"
     ]
    }
   ],
   "source": [
    "while True:\n",
    "    user_input = input(\"Input something:\")\n",
    "    if user_input.lower() =='q':\n",
    "        break\n",
    "    else:\n",
    "        continue"
   ]
  },
  {
   "cell_type": "code",
   "execution_count": 2,
   "metadata": {},
   "outputs": [
    {
     "name": "stdout",
     "output_type": "stream",
     "text": [
      "1\n",
      "2\n",
      "4\n",
      "5\n",
      "7\n",
      "8\n",
      "10\n",
      "11\n",
      "13\n",
      "14\n",
      "16\n",
      "17\n",
      "19\n",
      "20\n",
      "22\n",
      "23\n",
      "25\n",
      "26\n",
      "28\n",
      "29\n",
      "31\n",
      "32\n",
      "34\n",
      "35\n",
      "37\n",
      "38\n",
      "40\n",
      "41\n",
      "43\n",
      "44\n",
      "46\n",
      "47\n",
      "49\n",
      "50\n"
     ]
    }
   ],
   "source": [
    "for i in range(1,51):\n",
    "    if i % 3 != 0:\n",
    "        print(i)\n",
    "    else:\n",
    "        continue\n",
    "        "
   ]
  },
  {
   "cell_type": "markdown",
   "metadata": {},
   "source": [
    "## Writing your own functions\n",
    "You've got your first taste of writing your own functions in the previous exercises. You've learned how to add parameters to your own function definitions, return a value or multiple values with tuples, and how to call the functions you've defined.\n",
    "\n",
    "In this and the following exercise, you will bring together all these concepts and apply them to a simple data science problem. You will load a dataset and develop functionalities to extract simple insights from the data.\n",
    "\n",
    "For this exercise, your goal is to recall how to load a dataset into a DataFrame. The dataset contains Twitter data and you will iterate over entries in a column to build a dictionary in which the keys are the names of languages and the values are the number of tweets in the given language. The file `tweets.csv` is available in your current directory.\n",
    "\n",
    "**INSTRUCTIONS**\n",
    "- Import the pandas package with the alias `pd`.\n",
    "- Import the file `'tweets.csv'` using the pandas function `read_csv()`. Assign the resulting DataFrame to `df`.\n",
    "- Complete the `for` loop by iterating over `col`, the `'lang'` column in the DataFrame `df`.\n",
    "- Complete the bodies of the `if-else` statements in the `for` loop: **if** the key is in the dictionary `langs_count`, add `1` to its current value, **else** add the key to `langs_count` and set its value to `1`. Use the loop variable `entry` in your code."
   ]
  },
  {
   "cell_type": "code",
   "execution_count": 3,
   "metadata": {},
   "outputs": [
    {
     "name": "stdout",
     "output_type": "stream",
     "text": [
      "{'en': 97, 'et': 1, 'und': 2}\n"
     ]
    }
   ],
   "source": [
    "# Import pandas\n",
    "import pandas as pd\n",
    "\n",
    "# Import Twitter data as DataFrame: df\n",
    "\n",
    "# Initialize an empty dictionary: langs_count\n",
    "langs_count = {}\n",
    "\n",
    "# Extract column from DataFrame: col\n",
    "col = df['lang']\n",
    "# Iterate oprinver lang column in DataFrame\n",
    "for entry in col:\n",
    "\n",
    "    # If the language is in langs_count, add 1\n",
    "    if entry in langs_count.keys():\n",
    "        langs_count[entry] += 1\n",
    "    # Else add the language to langs_count, set the value to 1\n",
    "    else:\n",
    "        langs_count[entry] = 1\n",
    "\n",
    "# Print the populated dictionary\n",
    "print(langs_count)"
   ]
  },
  {
   "cell_type": "code",
   "execution_count": 4,
   "metadata": {},
   "outputs": [],
   "source": [
    "#{'en': 97, 'et': 1, 'und': 2} result"
   ]
  },
  {
   "cell_type": "markdown",
   "metadata": {},
   "source": [
    "Great job! You've now defined the functionality for iterating over entries in a column and building a dictionary with keys the names of languages and values the number of tweets in the given language.\n",
    "\n",
    "In this exercise, you will define a function with the functionality you developed in the previous exercise, return the resulting dictionary from within the function, and call the function with the appropriate arguments.\n",
    "\n",
    "For your convenience, the pandas package has been imported as `pd` and the `'tweets.csv'` file has been imported into the `tweets_df` variable."
   ]
  },
  {
   "cell_type": "code",
   "execution_count": 5,
   "metadata": {},
   "outputs": [],
   "source": [
    "tweets_df = pd.read_csv('CSV/tweets.csv')"
   ]
  },
  {
   "cell_type": "markdown",
   "metadata": {},
   "source": [
    "**INSTRUCTIONS**\n",
    "- Define the function `count_entries()`, which has two parameters. The first parameter is `df` for the DataFrame and the second is `col_name` for the column name.\n",
    "- Complete the bodies of the `if-else` statements in the `for` loop: **if** the key is in the dictionary `langs_count`, add `1` to its current value, **else** add the key to `langs_count` and set its value to `1`. Use the loop variable `entry` in your code.\n",
    "- Return the `langs_count` dictionary from inside the `count_entries()` function.\n",
    "- Call the `count_entries()` function by passing to it `tweets_df` and the name of the column, `'lang'`. Assign the result of the call to the variable `result`."
   ]
  },
  {
   "cell_type": "code",
   "execution_count": 6,
   "metadata": {},
   "outputs": [
    {
     "name": "stdout",
     "output_type": "stream",
     "text": [
      "{'en': 97, 'et': 1, 'und': 2}\n"
     ]
    }
   ],
   "source": [
    "# Define count_entries()\n",
    "def count_entries(df, col_name):\n",
    "    \"\"\"Return a dictionary with counts of \n",
    "    occurrences as value for each key.\"\"\"\n",
    "\n",
    "    # Initialize an empty dictionary: langs_count\n",
    "    langs_count = {}\n",
    "    \n",
    "    # Extract column from DataFrame: col\n",
    "    col = df[col_name]\n",
    "    \n",
    "    # Iterate over lang column in DataFrame\n",
    "    for entry in col:\n",
    "\n",
    "        # If the language is in langs_count, add 1\n",
    "        if entry in langs_count.keys():\n",
    "            langs_count[entry] += 1\n",
    "        # Else add the language to langs_count, set the value to 1\n",
    "        else:\n",
    "            langs_count[entry] = 1\n",
    "\n",
    "    # Return the langs_count dictionary\n",
    "    return langs_count\n",
    "\n",
    "# Call count_entries(): result\n",
    "result = count_entries(tweets_df,'lang')\n",
    "\n",
    "# Print the result\n",
    "print(result)"
   ]
  },
  {
   "cell_type": "markdown",
   "metadata": {},
   "source": [
    "## Default arguments, variable-length arguments and scope\n",
    "Recall the exercise in the previous chapter where you did a simple Twitter analysis by developing a function that counts how many tweets are in certain languages. The output of your function was a dictionary that had the language as the keys and the counts of tweets in that language as the value.\n",
    "\n",
    "In this exercise, we will generalize the Twitter language analysis that you did in the previous chapter. You will do that by including a **default argument** that takes a column name.\n",
    "\n",
    "For your convenience, `pandas` has been imported as `pd` and the `'tweets.csv'` file has been imported into the DataFrame `tweets_df`. Parts of the code from your previous work are also provided.\n",
    "\n",
    "**INSTRUCTIONS**\n",
    "- Complete the function header by supplying the parameter for a DataFrame `df` and the parameter `col_name` with a default value of `'lang'` for the DataFrame column name.\n",
    "- Call `count_entries()` by passing the `tweets_df` DataFrame and the column name `'lang'`. Assign the result to `result1`. Note that since `'lang'` is the default value of the `col_name` parameter, you don't have to specify it here.\n",
    "- Call `count_entries()` by passing the `tweets_df` DataFrame and the column name `'source'`. Assign the result to `result2`."
   ]
  },
  {
   "cell_type": "code",
   "execution_count": 7,
   "metadata": {},
   "outputs": [
    {
     "name": "stdout",
     "output_type": "stream",
     "text": [
      "{'en': 97, 'et': 1, 'und': 2}\n",
      "{'<a href=\"http://twitter.com\" rel=\"nofollow\">Twitter Web Client</a>': 24, '<a href=\"http://www.facebook.com/twitter\" rel=\"nofollow\">Facebook</a>': 1, '<a href=\"http://twitter.com/download/android\" rel=\"nofollow\">Twitter for Android</a>': 26, '<a href=\"http://twitter.com/download/iphone\" rel=\"nofollow\">Twitter for iPhone</a>': 33, '<a href=\"http://www.twitter.com\" rel=\"nofollow\">Twitter for BlackBerry</a>': 2, '<a href=\"http://www.google.com/\" rel=\"nofollow\">Google</a>': 2, '<a href=\"http://twitter.com/#!/download/ipad\" rel=\"nofollow\">Twitter for iPad</a>': 6, '<a href=\"http://linkis.com\" rel=\"nofollow\">Linkis.com</a>': 2, '<a href=\"http://rutracker.org/forum/viewforum.php?f=93\" rel=\"nofollow\">newzlasz</a>': 2, '<a href=\"http://ifttt.com\" rel=\"nofollow\">IFTTT</a>': 1, '<a href=\"http://www.myplume.com/\" rel=\"nofollow\">Plume\\xa0for\\xa0Android</a>': 1}\n"
     ]
    }
   ],
   "source": [
    "# Define count_entries()\n",
    "def count_entries(df, col_name = 'lang'):\n",
    "    \"\"\"Return a dictionary with counts of\n",
    "    occurrences as value for each key.\"\"\"\n",
    "\n",
    "    # Initialize an empty dictionary: cols_count\n",
    "    cols_count = {}\n",
    "\n",
    "    # Extract column from DataFrame: col\n",
    "    col = df[col_name]\n",
    "    \n",
    "    # Iterate over the column in DataFrame\n",
    "    for entry in col:\n",
    "\n",
    "        # If entry is in cols_count, add 1\n",
    "        if entry in cols_count.keys():\n",
    "            cols_count[entry] += 1\n",
    "\n",
    "        # Else add the entry to cols_count, set the value to 1\n",
    "        else:\n",
    "            cols_count[entry] = 1\n",
    "\n",
    "    # Return the cols_count dictionary\n",
    "    return cols_count\n",
    "\n",
    "# Call count_entries(): result1\n",
    "result1 = count_entries(tweets_df)\n",
    "\n",
    "# Call count_entries(): result2\n",
    "result2 = count_entries(tweets_df, col_name = 'source')\n",
    "\n",
    "# Print result1 and result2\n",
    "print(result1)\n",
    "print(result2)"
   ]
  },
  {
   "cell_type": "markdown",
   "metadata": {},
   "source": [
    "Wow, you've just generalized your Twitter language analysis that you did in the previous chapter to include a default argument for the column name. You're now going to generalize this function one step further by allowing the user to pass it a flexible argument, that is, in this case, as many column names as the user would like!\n",
    "\n",
    "Once again, for your convenience, `pandas` has been imported as `pd` and the `'tweets.csv'` file has been imported into the DataFrame `tweets_df`. Parts of the code from your previous work are also provided.\n",
    "\n",
    "**INSTRUCTIONS**\n",
    "- Complete the function header by supplying the parameter for the dataframe `df` and the flexible argument `*args`.\n",
    "- Complete the `for` loop within the function definition so that the loop occurs over the tuple `args`.\n",
    "- Call `count_entries()` by passing the `tweets_df` DataFrame and the column name `'lang'`. Assign the result to `result1`.\n",
    "- Call `count_entries()` by passing the `tweets_df` DataFrame and the column names `'lang'` and `'source'`. Assign the result to `result2`."
   ]
  },
  {
   "cell_type": "code",
   "execution_count": 8,
   "metadata": {},
   "outputs": [
    {
     "name": "stdout",
     "output_type": "stream",
     "text": [
      "{'en': 97, 'et': 1, 'und': 2}\n",
      "{'en': 97, 'et': 1, 'und': 2, '<a href=\"http://twitter.com\" rel=\"nofollow\">Twitter Web Client</a>': 24, '<a href=\"http://www.facebook.com/twitter\" rel=\"nofollow\">Facebook</a>': 1, '<a href=\"http://twitter.com/download/android\" rel=\"nofollow\">Twitter for Android</a>': 26, '<a href=\"http://twitter.com/download/iphone\" rel=\"nofollow\">Twitter for iPhone</a>': 33, '<a href=\"http://www.twitter.com\" rel=\"nofollow\">Twitter for BlackBerry</a>': 2, '<a href=\"http://www.google.com/\" rel=\"nofollow\">Google</a>': 2, '<a href=\"http://twitter.com/#!/download/ipad\" rel=\"nofollow\">Twitter for iPad</a>': 6, '<a href=\"http://linkis.com\" rel=\"nofollow\">Linkis.com</a>': 2, '<a href=\"http://rutracker.org/forum/viewforum.php?f=93\" rel=\"nofollow\">newzlasz</a>': 2, '<a href=\"http://ifttt.com\" rel=\"nofollow\">IFTTT</a>': 1, '<a href=\"http://www.myplume.com/\" rel=\"nofollow\">Plume\\xa0for\\xa0Android</a>': 1}\n"
     ]
    }
   ],
   "source": [
    "# Define count_entries()\n",
    "def count_entries(df, *args):\n",
    "    \"\"\"Return a dictionary with counts of\n",
    "    occurrences as value for each key.\"\"\"\n",
    "    \n",
    "    #Initialize an empty dictionary: cols_count\n",
    "    cols_count = {}\n",
    "    \n",
    "    # Iterate over column names in args\n",
    "    for col_name in args:\n",
    "    \n",
    "        # Extract column from DataFrame: col\n",
    "        col = df[col_name]\n",
    "        \n",
    "        # Iterate over the column in DataFrame\n",
    "        for entry in col:\n",
    "    \n",
    "            # If entry is in cols_count, add 1\n",
    "            if entry in cols_count.keys():\n",
    "                cols_count[entry] += 1\n",
    "    \n",
    "            # Else add the entry to cols_count, set the value to 1\n",
    "            else:\n",
    "                cols_count[entry] = 1\n",
    "\n",
    "    # Return the cols_count dictionary\n",
    "    return cols_count\n",
    "\n",
    "# Call count_entries(): result1\n",
    "result1 = count_entries(tweets_df, 'lang')\n",
    "\n",
    "# Call count_entries(): result2\n",
    "result2 = count_entries(tweets_df,'lang', 'source')\n",
    "\n",
    "# Print result1 and result2\n",
    "print(result1)\n",
    "print(result2)"
   ]
  },
  {
   "cell_type": "code",
   "execution_count": 0,
   "metadata": {},
   "outputs": [],
   "source": []
  },
  {
   "cell_type": "markdown",
   "metadata": {},
   "source": [
    "## Lambda functions and error-handling\n",
    "This is awesome! You have now learned how to write anonymous functions using `lambda`, how to pass lambda functions as arguments to other functions such as `map()`, `filter()`, and `reduce()`, as well as how to write errors and output custom error messages within your functions. You will now put together these learnings to good use by working with a Twitter dataset. Before practicing your new error handling skills,in this exercise, you will write a lambda function and use `filter()` to select retweets, that is, tweets that begin with the string `'RT'`.\n",
    "\n",
    "To help you accomplish this, the Twitter data has been imported into the DataFrame, `tweets_df`. Go for it!\n",
    "\n",
    "**INSTRUCTIONS**\n",
    "- In the `filter()` call, pass a lambda function and the sequence of tweets as strings, `tweets_df['text']`. The lambda function should check if the first 2 characters in a tweet `x` are 'RT'. Assign the resulting filter object to `result`. To get the first 2 characters in a tweet `x`, use `x[0:2]`. To check equality, use a Boolean filter with `==`.\n",
    "- Convert `result` to a list and print out the list."
   ]
  },
  {
   "cell_type": "code",
   "execution_count": 9,
   "metadata": {},
   "outputs": [
    {
     "name": "stdout",
     "output_type": "stream",
     "text": [
      "RT @bpolitics: .@krollbondrating's Christopher Whalen says Clinton is the weakest Dem candidate in 50 years https://t.co/pLk7rvoRSn https:/…\n",
      "RT @HeidiAlpine: @dmartosko Cruz video found.....racing from the scene.... #cruzsexscandal https://t.co/zuAPZfQDk3\n",
      "RT @AlanLohner: The anti-American D.C. elites despise Trump for his America-first foreign policy. Trump threatens their gravy train. https:…\n",
      "RT @BIackPplTweets: Young Donald trump meets his neighbor  https://t.co/RFlu17Z1eE\n",
      "RT @trumpresearch: @WaitingInBagdad @thehill Trump supporters have selective amnisia.\n",
      "RT @HouseCracka: 29,000+ PEOPLE WATCHING TRUMP LIVE ON ONE STREAM!!!\n",
      "\n",
      "https://t.co/7QCFz9ehNe\n",
      "RT @urfavandtrump: RT for Brendon Urie\n",
      "Fav for Donald Trump https://t.co/PZ5vS94lOg\n",
      "RT @trapgrampa: This is how I see #Trump every time he speaks. https://t.co/fYSiHNS0nT\n",
      "RT @trumpresearch: @WaitingInBagdad @thehill Trump supporters have selective amnisia.\n",
      "RT @Pjw20161951: NO KIDDING: #SleazyDonald just attacked Scott Walker for NOT RAISING TAXES in WI! #LyinTrump\n",
      "#NeverTrump  #CruzCrew  https…\n",
      "RT @urfavandtrump: RT for Brendon Urie\n",
      "Fav for Donald Trump https://t.co/PZ5vS94lOg\n",
      "RT @ggreenwald: The media spent all day claiming @SusanSarandon said she might vote for Trump. A total fabrication, but whatever... https:/…\n",
      "RT @Pjw20161951: NO KIDDING: #SleazyDonald just attacked Scott Walker for NOT RAISING TAXES in WI! #LyinTrump\n",
      "#NeverTrump  #CruzCrew  https…\n",
      "RT @trapgrampa: This is how I see #Trump every time he speaks. https://t.co/fYSiHNS0nT\n",
      "RT @mitchellvii: So let me get this straight.  Any reporter can assault Mr Trump at any time and Corey can do nothing?  Michelle is clearly…\n",
      "RT @paulbenedict7: How #Trump Sacks RINO Strongholds by Hitting Positions Held by Dems and GOP https://t.co/D7ulnAJhis   #tcot #PJNET https…\n",
      "RT @DRUDGE_REPORT: VIDEO:  Trump emotional moment with Former Miss Wisconsin who has terminal illness... https://t.co/qt06aG9inT\n",
      "RT @ggreenwald: The media spent all day claiming @SusanSarandon said she might vote for Trump. A total fabrication, but whatever... https:/…\n",
      "RT @DennisApgar: Thank God I seen Trump at first stop in Wisconsin media doesn't know how great he is, advice watch live streaming https://…\n",
      "RT @paulbenedict7: How #Trump Sacks RINO Strongholds by Hitting Positions Held by Dems and GOP https://t.co/D7ulnAJhis   #tcot #PJNET https…\n",
      "RT @DRUDGE_REPORT: VIDEO:  Trump emotional moment with Former Miss Wisconsin who has terminal illness... https://t.co/qt06aG9inT\n",
      "RT @DennisApgar: Thank God I seen Trump at first stop in Wisconsin media doesn't know how great he is, advice watch live streaming https://…\n",
      "RT @mitchellvii: So let me get this straight.  Any reporter can assault Mr Trump at any time and Corey can do nothing?  Michelle is clearly…\n",
      "RT @sciam: Trump's idiosyncratic patterns of speech are why people tend either to love or hate him https://t.co/QXwquVgs3c https://t.co/P9N…\n",
      "RT @Norsu2: Nightmare WI poll for Ted Cruz has Kasich surging: Trump 29, Kasich 27, Cruz 25. https://t.co/lJsgbLYY1P #NeverTrump\n",
      "RT @thehill: WATCH: Protester pepper-sprayed point blank at Trump rally https://t.co/B5f65Al9ld https://t.co/skAfByXuQc\n",
      "RT @sciam: Trump's idiosyncratic patterns of speech are why people tend either to love or hate him https://t.co/QXwquVgs3c https://t.co/P9N…\n",
      "RT @ggreenwald: The media spent all day claiming @SusanSarandon said she might vote for Trump. A total fabrication, but whatever... https:/…\n",
      "RT @DebbieStout5: Wow! Last I checked it was just 12 points &amp; that wasn't more than a day ago. Oh boy Trump ppl might want to rethink🤔 http…\n",
      "RT @tyleroakley: i'm a messy bitch, but at least i'm not voting for trump\n",
      "RT @vandives: Trump supporters r tired of justice NOT being served. There's no justice anymore. Hardworking Americans get screwed. That's n…\n",
      "RT @AP: BREAKING: Trump vows to stand by campaign manager charged with battery, says he does not discard people.\n",
      "RT @AP: BREAKING: Trump vows to stand by campaign manager charged with battery, says he does not discard people.\n",
      "RT @urfavandtrump: RT for Jerrie (Little Mix)\n",
      "Fav for Donald Trump https://t.co/nEVxElW6iG\n",
      "RT @urfavandtrump: RT for Jerrie (Little Mix)\n",
      "Fav for Donald Trump https://t.co/nEVxElW6iG\n",
      "RT @NoahCRothman: When Walker was fighting for reforms, Trump was defending unions and collective bargaining privileges https://t.co/e1UWNN…\n",
      "RT @RedheadAndRight: Report: Secret Service Says Michelle Fields Touched Trump https://t.co/c5c2sD8VO2\n",
      "\n",
      "This is the only article you will n…\n",
      "RT @AIIAmericanGirI: VIDEO=&gt; Anti-Trump Protester SLUGS Elderly Trump Supporter in the Face\n",
      "https://t.co/GeEryMDuDY\n",
      "RT @NoahCRothman: When Walker was fighting for reforms, Trump was defending unions and collective bargaining privileges https://t.co/e1UWNN…\n",
      "RT @JusticeRanger1: @realDonaldTrump @Pudingtane @DanScavino @GOP @infowars @EricTrump \n",
      "URGENT PUBLIC TRUMP ALERT:\n",
      "COVERT KILL MEANS https:…\n",
      "RT @AIIAmericanGirI: VIDEO=&gt; Anti-Trump Protester SLUGS Elderly Trump Supporter in the Face\n",
      "https://t.co/GeEryMDuDY\n",
      "RT @RedheadAndRight: Report: Secret Service Says Michelle Fields Touched Trump https://t.co/c5c2sD8VO2\n",
      "\n",
      "This is the only article you will n…\n",
      "RT @JusticeRanger1: @realDonaldTrump @Pudingtane @DanScavino @GOP @infowars @EricTrump \n",
      "URGENT PUBLIC TRUMP ALERT:\n",
      "COVERT KILL MEANS https:…\n",
      "RT @Schneider_CM: Trump says nobody had ever heard of executive orders before Obama started signing them. Never heard of the Emancipation P…\n",
      "RT @RonBasler1: @DavidWhitDennis @realDonaldTrump @tedcruz \n",
      "\n",
      "CRUZ SCREWS HOOKERS\n",
      "\n",
      "CRUZ / CLINTON\n",
      "RT @DonaldsAngel: Former Ms. WI just said that she is terminally ill but because of Trump pageant, her 7 yr. old son has his college educat…\n",
      "RT @Schneider_CM: Trump says nobody had ever heard of executive orders before Obama started signing them. Never heard of the Emancipation P…\n",
      "RT @DonaldsAngel: Former Ms. WI just said that she is terminally ill but because of Trump pageant, her 7 yr. old son has his college educat…\n",
      "RT @Dodarey: @DR8801 @SykesCharlie Charlie, let's see you get a straight \"yes\" or \"no\" answer from Cruz a/b being unfaithful to his wife @T…\n",
      "RT @RonBasler1: @DavidWhitDennis @realDonaldTrump @tedcruz \n",
      "\n",
      "CRUZ SCREWS HOOKERS\n",
      "\n",
      "CRUZ / CLINTON\n",
      "RT @RockCliffOne: Remember when the idea of a diabolical moron holding the world hostage was an idea for a funny movie? #Trump #GOP https:/…\n",
      "RT @HillaryClinton: \"Every day, another Republican bemoans the rise of Donald Trump... but [he] didn’t come out of nowhere.\" —Hillary\n",
      "https…\n",
      "RT @Dodarey: @DR8801 @SykesCharlie Charlie, let's see you get a straight \"yes\" or \"no\" answer from Cruz a/b being unfaithful to his wife @T…\n",
      "RT @HillaryClinton: \"Every day, another Republican bemoans the rise of Donald Trump... but [he] didn’t come out of nowhere.\" —Hillary\n",
      "https…\n",
      "RT @RockCliffOne: Remember when the idea of a diabolical moron holding the world hostage was an idea for a funny movie? #Trump #GOP https:/…\n",
      "RT @immigrant4trump: @immigrant4trump msm, cable news attacking trump all day, from 8am to 10pm today, then the reruns come on, repeating t…\n",
      "RT @immigrant4trump: @immigrant4trump msm, cable news attacking trump all day, from 8am to 10pm today, then the reruns come on, repeating t…\n",
      "RT @GlendaJazzey: Donald Trump’s Campaign Financing Dodge, @rrotunda https://t.co/L8flI4lswG via @VerdictJustia\n",
      "RT @TUSK81: LOUDER FOR THE PEOPLE IN THE BACK https://t.co/hlPVyNLXzx\n",
      "RT @loopzoop: Well...put it back https://t.co/8Yb7BDT5VM\n",
      "RT @claytoncubitt: Stop asking Bernie supporters if they’ll vote for Hillary against Trump. We got a plan to beat Trump already. Called Ber…\n",
      "RT @akaMaude13: Seriously can't make this up. What a joke. #NeverTrump  https://t.co/JkTx6mdRgC\n"
     ]
    }
   ],
   "source": [
    "# Select retweets from the Twitter DataFrame: result\n",
    "result = filter(lambda x: x[:2]=='RT', tweets_df['text'])\n",
    "# Create list from filter object result: res_list\n",
    "res_list = list(result)\n",
    "\n",
    "# Print all retweets in res_list\n",
    "for tweet in res_list:\n",
    "    print(tweet)"
   ]
  },
  {
   "cell_type": "markdown",
   "metadata": {},
   "source": [
    "Sometimes, we make mistakes when calling functions - even ones you made yourself. But don't fret! In this exercise, you will improve on your previous work with the `count_entries()` function in the last chapter by adding a `try-except` block to it. This will allow your function to provide a helpful message when the user calls your `count_entries()` function but provides a column name that isn't in the DataFrame.\n",
    "\n",
    "Once again, for your convenience, `pandas` has been imported as `pd` and the `'tweets.csv'` file has been imported into the DataFrame `tweets_df`. Parts of the code from your previous work are also provided.\n",
    "\n",
    "**INSTRUCTIONS**\n",
    "- Add a `try` block so that when the function is called with the correct arguments, it processes the DataFrame and returns a dictionary of results.\n",
    "- Add an `except` block so that when the function is called incorrectly, it displays the following error message: `'The DataFrame does not have a ' + col_name + ' column.'`"
   ]
  },
  {
   "cell_type": "code",
   "execution_count": 10,
   "metadata": {},
   "outputs": [
    {
     "name": "stdout",
     "output_type": "stream",
     "text": [
      "<class 'pandas.core.series.Series'>\n",
      "{'en': 97, 'et': 1, 'und': 2}\n",
      "The DataFrame does not have a lang1 column.\n"
     ]
    }
   ],
   "source": [
    "# Define count_entries()\n",
    "def count_entries(df, col_name='lang'):\n",
    "    \"\"\"Return a dictionary with counts of\n",
    "    occurrences as value for each key.\"\"\"\n",
    "\n",
    "    # Initialize an empty dictionary: cols_count\n",
    "    cols_count = {}\n",
    "\n",
    "    # Add try block\n",
    "    try:\n",
    "        # Extract column from DataFrame: col\n",
    "        col = df[col_name]\n",
    "        print(type(col))\n",
    "        # Iterate over the column in dataframe\n",
    "        for entry in col:\n",
    "    \n",
    "            # If entry is in cols_count, add 1\n",
    "            if entry in cols_count.keys():\n",
    "                cols_count[entry] += 1\n",
    "            # Else add the entry to cols_count, set the value to 1\n",
    "            else:\n",
    "                cols_count[entry] = 1\n",
    "    \n",
    "        # Return the cols_count dictionary\n",
    "        return cols_count\n",
    "\n",
    "    # Add except block\n",
    "    except:\n",
    "        print('The DataFrame does not have a ' + col_name + ' column.')\n",
    "\n",
    "# Call count_entries(): result1\n",
    "result1 = count_entries(tweets_df, 'lang')\n",
    "\n",
    "# Print result1\n",
    "print(result1)\n",
    "count_entries(tweets_df, 'lang1')"
   ]
  },
  {
   "cell_type": "code",
   "execution_count": 11,
   "metadata": {},
   "outputs": [],
   "source": [
    "#{'en': 97, 'et': 1, 'und': 2}\n",
    "#The DataFrame does not have a lang1 column."
   ]
  },
  {
   "cell_type": "markdown",
   "metadata": {},
   "source": [
    "In the previous exercise, you built on your function `count_entries()` to add a `try-except` block. This was so that users would get helpful messages when calling your `count_entries()` function and providing a column name that isn't in the DataFrame. In this exercise, you'll instead raise a `ValueError` in the case that the user provides a column name that isn't in the DataFrame.\n",
    "\n",
    "Once again, for your convenience, `pandas` has been imported as `pd` and the `'tweets.csv'` file has been imported into the DataFrame `tweets_df`. Parts of the code from your previous work are also provided.\n",
    "\n",
    "**INSTRUCTIONS**\n",
    "- If `col_name` is not a column in the DataFrame `df`, raise a `ValueError 'The DataFrame does not have a ' + col_name + ' column.'`.\n",
    "- Call your new function `count_entries()` to analyze the `'lang'` column of `tweets_df`. Store the result in `result1`.\n",
    "- Print `result1`. This has been done for you, so hit 'Submit Answer' to check out the result. In the next exercise, you'll see that it raises the necessary `ValueErrors`."
   ]
  },
  {
   "cell_type": "code",
   "execution_count": 12,
   "metadata": {},
   "outputs": [
    {
     "name": "stdout",
     "output_type": "stream",
     "text": [
      "{'en': 97, 'et': 1, 'und': 2}\n"
     ]
    }
   ],
   "source": [
    "# Define count_entries()\n",
    "def count_entries(df, col_name='lang'):\n",
    "    \"\"\"Return a dictionary with counts of\n",
    "    occurrences as value for each key.\"\"\"\n",
    "    \n",
    "    # Raise a ValueError if col_name is NOT in DataFrame\n",
    "    if col_name not in df.columns:\n",
    "        raise ValueError('The DataFrame does not have a ' + col_name + ' column.')\n",
    "\n",
    "    # Initialize an empty dictionary: cols_count\n",
    "    cols_count = {}\n",
    "    \n",
    "    # Extract column from DataFrame: col\n",
    "    col = df[col_name]\n",
    "    \n",
    "    # Iterate over the column in DataFrame\n",
    "    for entry in col:\n",
    "\n",
    "        # If entry is in cols_count, add 1\n",
    "        if entry in cols_count.keys():\n",
    "            cols_count[entry] += 1\n",
    "            # Else add the entry to cols_count, set the value to 1\n",
    "        else:\n",
    "            cols_count[entry] = 1\n",
    "        \n",
    "        # Return the cols_count dictionary\n",
    "    return cols_count\n",
    "\n",
    "# Call count_entries(): result1\n",
    "result1 = count_entries(tweets_df,'lang')\n",
    "#count_entries(tweets_df, 'lang1')\n",
    "# Print result1\n",
    "print(result1)"
   ]
  },
  {
   "cell_type": "markdown",
   "metadata": {},
   "source": [
    "You have just written error handling into your `count_entries()` function so that, when the user passes the function a column (as 2nd argument) NOT contained in the DataFrame (1st argument), a `ValueError` is thrown. You're now going to play with this function: it is loaded into pre-exercise code, as is the DataFrame `tweets_df`. Try calling `count_entries(tweets_df, 'lang')` to confirm that the function behaves as it should. Then call `count_entries(tweets_df, 'lang1')`: what is the last line of the output?\n",
    "\n",
    "- `'ValueError: The DataFrame does not have the requested column.'`\n",
    "- `'ValueError: The DataFrame does not have a lang1 column.'`\n",
    "- `'TypeError: The DataFrame does not have the requested column.'`"
   ]
  },
  {
   "cell_type": "markdown",
   "metadata": {},
   "source": [
    "##  Iterators, List comprehensions and generators\n",
    "For this exercise, you'll use what you've learned about the `zip()` function and combine two lists into a dictionary.\n",
    "\n",
    "These lists are actually extracted from a bigger dataset file of world development indicators from the World Bank. For pedagogical purposes, we have pre-processed this dataset into the lists that you'll be working with.\n",
    "\n",
    "The first list `feature_names` contains header names of the dataset and the second list `row_vals` contains actual values of a row from the dataset, corresponding to each of the header names."
   ]
  },
  {
   "cell_type": "code",
   "execution_count": 13,
   "metadata": {},
   "outputs": [],
   "source": [
    "feature_names = ['CountryName', 'CountryCode', 'IndicatorName', 'IndicatorCode', 'Year', 'Value']\n",
    "row_vals = ['Arab World', 'ARB', 'Adolescent fertility rate (births per 1,000 women ages 15-19)',\n",
    "            'SP.ADO.TFRT', '1960', '133.56090740552298']"
   ]
  },
  {
   "cell_type": "markdown",
   "metadata": {},
   "source": [
    "**INSTRUCTIONS**\n",
    "- Create a zip object by calling `zip()` and passing to it `feature_names` and `row_vals`. Assign the result to `zipped_lists`.\n",
    "- Create a dictionary from the `zipped_lists` zip object by calling `dict()` with `zipped_lists`. Assign the resulting dictionary to `rs_dict`."
   ]
  },
  {
   "cell_type": "code",
   "execution_count": 14,
   "metadata": {},
   "outputs": [
    {
     "name": "stdout",
     "output_type": "stream",
     "text": [
      "{'CountryName': 'Arab World', 'CountryCode': 'ARB', 'IndicatorName': 'Adolescent fertility rate (births per 1,000 women ages 15-19)', 'IndicatorCode': 'SP.ADO.TFRT', 'Year': '1960', 'Value': '133.56090740552298'}\n"
     ]
    }
   ],
   "source": [
    "# Zip lists: zipped_lists\n",
    "zipped_lists = zip(feature_names,row_vals)\n",
    "\n",
    "# Create a dictionary: rs_dict\n",
    "rs_dict = dict(zipped_lists)\n",
    "\n",
    "# Print the dictionary\n",
    "print(rs_dict)"
   ]
  },
  {
   "cell_type": "code",
   "execution_count": 15,
   "metadata": {},
   "outputs": [],
   "source": [
    "#{'CountryName': 'Arab World', 'CountryCode': 'ARB', 'IndicatorName': 'Adolescent fertility rate (births per 1,000 women ages 15-19)', 'IndicatorCode': 'SP.ADO.TFRT', 'Year': '1960', 'Value': '133.56090740552298'}  answer"
   ]
  },
  {
   "cell_type": "markdown",
   "metadata": {},
   "source": [
    "Suppose you needed to repeat the same process done in the previous exercise to many, many rows of data. Rewriting your code again and again could become very tedious, repetitive, and unmaintainable.\n",
    "\n",
    "In this exercise, you will create a function to house the code you wrote earlier to make things easier and much more concise. Why? This way, you only need to call the function and supply the appropriate lists to create your dictionaries! Again, the lists `feature_names` and `row_vals` are preloaded and these contain the header names of the dataset and actual values of a row from the dataset, respectively.\n",
    "\n",
    "**INSTRUCTIONS**\n",
    "- Define the function `lists2dict()` with two parameters: first is `list1` and second is `list2`.\n",
    "- Return the resulting dictionary `rs_dict` in `lists2dict()`.\n",
    "- Call the `lists2dict()` function with the arguments `feature_names` and `row_vals`. Assign the result of the function call to `rs_fxn`."
   ]
  },
  {
   "cell_type": "code",
   "execution_count": 16,
   "metadata": {},
   "outputs": [
    {
     "name": "stdout",
     "output_type": "stream",
     "text": [
      "{'CountryName': 'Arab World', 'CountryCode': 'ARB', 'IndicatorName': 'Adolescent fertility rate (births per 1,000 women ages 15-19)', 'IndicatorCode': 'SP.ADO.TFRT', 'Year': '1960', 'Value': '133.56090740552298'}\n"
     ]
    }
   ],
   "source": [
    "# Define lists2dict()\n",
    "def lists2dict(list1, list2):\n",
    "    \"\"\"Return a dictionary where list1 provides\n",
    "    the keys and list2 provides the values.\"\"\"\n",
    "\n",
    "    # Zip lists: zipped_lists\n",
    "    zipped_lists = zip(list1, list2)\n",
    "\n",
    "    # Create a dictionary: rs_dict\n",
    "    rs_dict = dict(zipped_lists)\n",
    "\n",
    "    # Return the dictionary\n",
    "    return rs_dict\n",
    "\n",
    "# Call lists2dict: rs_fxn\n",
    "rs_fxn = lists2dict(feature_names,row_vals)\n",
    "\n",
    "# Print rs_fxn\n",
    "print(rs_fxn)"
   ]
  },
  {
   "cell_type": "markdown",
   "metadata": {},
   "source": [
    "This time, you're going to use the `lists2dict()` function you defined in the last exercise to turn a bunch of lists into a list of dictionaries with the help of a list comprehension.\n",
    "\n",
    "The `lists2dict()` function has already been preloaded, together with a couple of lists, `feature_names` and `row_lists`. `feature_names` contains the header names of the World Bank dataset and `row_lists` is a list of lists, where each sublist is a list of actual values of a row from the dataset.\n",
    "\n",
    "Your goal is to use a list comprehension to generate a list of dicts, where the keys are the header names and the values are the row entries.\n",
    "\n",
    "**INSTRUCTIONS**\n",
    "- Inspect the contents of `row_lists` by printing the first two lists in `row_lists`.\n",
    "- Create a list comprehension that generates a dictionary using `lists2dict()` for each sublist in `row_lists`. The keys are from the `feature_names` list and the values are the row entries in `row_lists`. Use `sublist` as your iterator variable and assign the resulting list of dictionaries to `list_of_dicts`.\n",
    "- Look at the first two dictionaries in `list_of_dicts` by printing them out."
   ]
  },
  {
   "cell_type": "code",
   "execution_count": 17,
   "metadata": {},
   "outputs": [],
   "source": [
    "row_lists = [['Arab World', 'ARB', 'Adolescent fertility rate (births per 1,000 women ages 15-19)',\n",
    "              'SP.ADO.TFRT', '1960', '133.56090740552298'],\n",
    "             ['Arab World', 'ARB', 'Age dependency ratio (% of working-age population)',\n",
    "              'SP.POP.DPND', '1960', '87.7976011532547'],\n",
    "             ['Arab World', 'ARB', 'Age dependency ratio, old (% of working-age population)',\n",
    "              'SP.POP.DPND.OL', '1960', '6.634579191565161'],\n",
    "             ['Arab World', 'ARB', 'Age dependency ratio, young (% of working-age population)',\n",
    "              'SP.POP.DPND.YG', '1960', '81.02332950839141'],\n",
    "             ['Arab World', 'ARB', 'Arms exports (SIPRI trend indicator values)',\n",
    "              'MS.MIL.XPRT.KD', '1960', '3000000.0'],\n",
    "             ['Arab World', 'ARB', 'Arms imports (SIPRI trend indicator values)',\n",
    "              'MS.MIL.MPRT.KD', '1960', '538000000.0'],\n",
    "             ['Arab World', 'ARB', 'Birth rate, crude (per 1,000 people)',\n",
    "              'SP.DYN.CBRT.IN', '1960', '47.697888095096395'],\n",
    "             ['Arab World', 'ARB', 'CO2 emissions (kt)', 'EN.ATM.CO2E.KT', '1960', '59563.9892169935'],\n",
    "             ['Arab World', 'ARB', 'CO2 emissions (metric tons per capita)',\n",
    "              'EN.ATM.CO2E.PC', '1960', '0.6439635478877049'],\n",
    "             ['Arab World', 'ARB', 'CO2 emissions from gaseous fuel consumption (% of total)',\n",
    "              'EN.ATM.CO2E.GF.ZS', '1960', '5.041291753975099'],\n",
    "             ['Arab World', 'ARB', 'CO2 emissions from liquid fuel consumption (% of total)',\n",
    "              'EN.ATM.CO2E.LF.ZS', '1960', '84.8514729446567'],\n",
    "             ['Arab World', 'ARB', 'CO2 emissions from liquid fuel consumption (kt)',\n",
    "              'EN.ATM.CO2E.LF.KT', '1960', '49541.707291032304'],\n",
    "             ['Arab World', 'ARB', 'CO2 emissions from solid fuel consumption (% of total)',\n",
    "              'EN.ATM.CO2E.SF.ZS', '1960', '4.72698138789597'],\n",
    "             ['Arab World', 'ARB', 'Death rate, crude (per 1,000 people)',\n",
    "              'SP.DYN.CDRT.IN', '1960', '19.7544519237187'],\n",
    "             ['Arab World', 'ARB', 'Fertility rate, total (births per woman)',\n",
    "              'SP.DYN.TFRT.IN', '1960', '6.92402738655897'],\n",
    "             ['Arab World', 'ARB', 'Fixed telephone subscriptions', 'IT.MLT.MAIN', '1960', '406833.0'],\n",
    "             ['Arab World', 'ARB', 'Fixed telephone subscriptions (per 100 people)',\n",
    "              'IT.MLT.MAIN.P2', '1960', '0.6167005703199'],\n",
    "             ['Arab World', 'ARB', 'Hospital beds (per 1,000 people)',\n",
    "              'SH.MED.BEDS.ZS', '1960', '1.9296220724398703'],\n",
    "             ['Arab World', 'ARB', 'International migrant stock (% of population)',\n",
    "              'SM.POP.TOTL.ZS', '1960', '2.9906371279862403'],\n",
    "             ['Arab World', 'ARB', 'International migrant stock, total', 'SM.POP.TOTL', '1960', '3324685.0']]"
   ]
  },
  {
   "cell_type": "code",
   "execution_count": 18,
   "metadata": {},
   "outputs": [
    {
     "name": "stdout",
     "output_type": "stream",
     "text": [
      "['Arab World', 'ARB', 'Adolescent fertility rate (births per 1,000 women ages 15-19)', 'SP.ADO.TFRT', '1960', '133.56090740552298']\n",
      "['Arab World', 'ARB', 'Age dependency ratio (% of working-age population)', 'SP.POP.DPND', '1960', '87.7976011532547']\n",
      "{'CountryName': 'Arab World', 'CountryCode': 'ARB', 'IndicatorName': 'Adolescent fertility rate (births per 1,000 women ages 15-19)', 'IndicatorCode': 'SP.ADO.TFRT', 'Year': '1960', 'Value': '133.56090740552298'}\n",
      "{'CountryName': 'Arab World', 'CountryCode': 'ARB', 'IndicatorName': 'Age dependency ratio (% of working-age population)', 'IndicatorCode': 'SP.POP.DPND', 'Year': '1960', 'Value': '87.7976011532547'}\n"
     ]
    }
   ],
   "source": [
    "# Print the first two lists in row_lists\n",
    "print(row_lists[0])\n",
    "print(row_lists[1])\n",
    "# Turn list of lists into list of dicts: list_of_dicts\n",
    "list_of_dicts = [lists2dict(feature_names, sublist) for sublist in row_lists]\n",
    "# Print the first two dictionaries in list_of_dicts\n",
    "print(list_of_dicts[0])\n",
    "print(list_of_dicts[1])"
   ]
  },
  {
   "cell_type": "code",
   "execution_count": 19,
   "metadata": {},
   "outputs": [],
   "source": [
    "#['Arab World', 'ARB', 'Adolescent fertility rate (births per 1,000 women ages 15-19)', 'SP.ADO.TFRT', '1960', '133.56090740552298']\n",
    "#['Arab World', 'ARB', 'Age dependency ratio (% of working-age population)', 'SP.POP.DPND', '1960', '87.7976011532547']\n",
    "#{'CountryName': 'Arab World', 'CountryCode': 'ARB', 'IndicatorName': 'Adolescent fertility rate (births per 1,000 women ages 15-19)', #'IndicatorCode': 'SP.ADO.TFRT', 'Year': '1960', 'Value': '133.56090740552298'}\n",
    "#{'CountryName': 'Arab World', 'CountryCode': 'ARB', 'IndicatorName': 'Age dependency ratio (% of working-age population)', 'IndicatorCode': 'SP.POP.DPND', 'Year': '1960', 'Value': '87.7976011532547'} result"
   ]
  },
  {
   "cell_type": "markdown",
   "metadata": {},
   "source": [
    "You've zipped lists together, created a function to house your code, and even used the function in a list comprehension to generate a list of dictionaries. That was a lot of work and you did a great job!\n",
    "\n",
    "You will now use of all these to convert the list of dictionaries into a pandas DataFrame. You will see how convenient it is to generate a DataFrame from dictionaries with the DataFrame() function from the pandas package.\n",
    "\n",
    "The `lists2dict()` function, `feature_names` list, and `row_lists` list have been preloaded for this exercise.\n",
    "\n",
    "Go for it!\n",
    "\n",
    "**INSTRUCTIONS**\n",
    "- To use the `DataFrame()` function you need, first import the pandas package with the alias `pd`.\n",
    "- Create a DataFrame from the list of dictionaries in `list_of_dicts` by calling `pd.DataFrame()`. Assign the resulting DataFrame to `df`.\n",
    "- Inspect the contents of `df` by printing the head of the DataFrame."
   ]
  },
  {
   "cell_type": "code",
   "execution_count": 20,
   "metadata": {},
   "outputs": [
    {
     "name": "stdout",
     "output_type": "stream",
     "text": [
      "  CountryName CountryCode                                      IndicatorName  \\\n",
      "0  Arab World         ARB  Adolescent fertility rate (births per 1,000 wo...   \n",
      "1  Arab World         ARB  Age dependency ratio (% of working-age populat...   \n",
      "2  Arab World         ARB  Age dependency ratio, old (% of working-age po...   \n",
      "3  Arab World         ARB  Age dependency ratio, young (% of working-age ...   \n",
      "4  Arab World         ARB        Arms exports (SIPRI trend indicator values)   \n",
      "\n",
      "    IndicatorCode  Year               Value  \n",
      "0     SP.ADO.TFRT  1960  133.56090740552298  \n",
      "1     SP.POP.DPND  1960    87.7976011532547  \n",
      "2  SP.POP.DPND.OL  1960   6.634579191565161  \n",
      "3  SP.POP.DPND.YG  1960   81.02332950839141  \n",
      "4  MS.MIL.XPRT.KD  1960           3000000.0  \n"
     ]
    }
   ],
   "source": [
    "# Import the pandas package\n",
    "import pandas as pd\n",
    "\n",
    "# Turn list of lists into list of dicts: list_of_dicts\n",
    "list_of_dicts = [lists2dict(feature_names, sublist) for sublist in row_lists]\n",
    "\n",
    "# Turn list of dicts into a DataFrame: df\n",
    "df = pd.DataFrame(list_of_dicts)\n",
    "\n",
    "# Print the head of the DataFrame\n",
    "print(df.head())"
   ]
  },
  {
   "cell_type": "markdown",
   "metadata": {},
   "source": [
    "Sometimes, data sources can be so large in size that storing the entire dataset in memory becomes too resource-intensive. In this exercise, you will process the first 1000 rows of a file line by line, to create a dictionary of the counts of how many times each country appears in a column in the dataset.\n",
    "\n",
    "The csv file `'world_dev_ind.csv'` is in your current directory for your use. To begin, you need to open a connection to this file using what is known as a context manager. For example, the command `with open('datacamp.csv')` as datacamp binds the csv file `'datacamp.csv'` as `datacamp` in the context manager. Here, the `with` statement is the context manager, and its purpose is to ensure that resources are efficiently allocated when opening a connection to a file.\n",
    "\n",
    "**INSTRUCTIONS**\n",
    "- Use `open()` to bind the csv file `'world_dev_ind.csv'` as file in the context manager.\n",
    "- Complete the `for` loop so that it iterates 1000 times to perform the loop body and process only the first 1000 rows of data of the file."
   ]
  },
  {
   "cell_type": "code",
   "execution_count": 0,
   "metadata": {},
   "outputs": [],
   "source": []
  },
  {
   "cell_type": "code",
   "execution_count": 21,
   "metadata": {
    "scrolled": true
   },
   "outputs": [
    {
     "name": "stdout",
     "output_type": "stream",
     "text": [
      "{'Arab World': 80, 'Caribbean small states': 77, 'Central Europe and the Baltics': 71, 'East Asia & Pacific (all income levels)': 122, 'East Asia & Pacific (developing only)': 123, 'Euro area': 119, 'Europe & Central Asia (all income levels)': 109, 'Europe & Central Asia (developing only)': 89, 'European Union': 116, 'Fragile and conflict affected situations': 76, 'Heavily indebted poor countries (HIPC)': 18}\n"
     ]
    }
   ],
   "source": [
    "with open('world_dev_ind.csv') as file:\n",
    "    file.readline()\n",
    "    counts_dict = {}\n",
    "    for j in range(1000):\n",
    "        line = file.readline().split(',')\n",
    "        #print(line)\n",
    "        first_col = line[0]\n",
    "        #print(first_col)\n",
    "        if first_col in counts_dict.keys():\n",
    "            counts_dict[first_col] += 1\n",
    "        else:\n",
    "            counts_dict[first_col] = 1\n",
    "print(counts_dict)"
   ]
  },
  {
   "cell_type": "markdown",
   "metadata": {},
   "source": [
    "In the previous exercise, you processed a file line by line for a given number of lines. What if, however, you want to do this for the entire file?\n",
    "\n",
    "In this case, it would be useful to use generators. Generators allow users to lazily evaluate data. This concept of lazy evaluation is useful when you have to deal with very large datasets because it lets you generate values in an efficient manner by yielding only chunks of data at a time instead of the whole thing at once.\n",
    "\n",
    "In this exercise, you will define a generator function `read_large_file()` that produces a generator object which yields a single line from a file each time `next()` is called on it. The csv file `'world_dev_ind.csv'` is in your current directory for your use.\n",
    "\n",
    "Note that when you open a connection to a file, the resulting file object is already a generator! So out in the wild, you won't have to explicitly create generator objects in cases such as this. However, for pedagogical reasons, we are having you practice how to do this here with the `read_large_file()` function. Go for it!\n",
    "\n",
    "**INSTRUCTIONS**\n",
    "- In the function `read_large_file()`, read a line from `file_object` by using the method `readline()`. Assign the result to `data`.\n",
    "- In the function `read_large_file()`, `yield` the line read from the file `data`.\n",
    "- In the context manager, create a generator object `gen_file` by calling your generator function `read_large_file()` and passing `file` to it.\n",
    "- Print the first three lines produced by the generator object `gen_file` using `next()`."
   ]
  },
  {
   "cell_type": "code",
   "execution_count": 22,
   "metadata": {},
   "outputs": [
    {
     "name": "stdout",
     "output_type": "stream",
     "text": [
      "CountryName,CountryCode,IndicatorName,IndicatorCode,Year,Value\n",
      "\n",
      "Arab World,ARB,\"Adolescent fertility rate (births per 1,000 women ages 15-19)\",SP.ADO.TFRT,1960,133.56090740552298\n",
      "\n",
      "Arab World,ARB,Age dependency ratio (% of working-age population),SP.POP.DPND,1960,87.7976011532547\n",
      "\n"
     ]
    }
   ],
   "source": [
    "# Define read_large_file()\n",
    "def read_large_file(file_object):\n",
    "    \"\"\"A generator function to read a large file lazily.\"\"\"\n",
    "\n",
    "    # Loop indefinitely until the end of the file\n",
    "    while True:\n",
    "\n",
    "        # Read a line from the file: data\n",
    "        data = file_object.readline()\n",
    "        if not data:\n",
    "            break\n",
    "\n",
    "        # Yield the line of data\n",
    "        yield data\n",
    "        \n",
    "# Open a connection to the file\n",
    "with open('world_dev_ind.csv') as file:\n",
    "\n",
    "    # Create a generator object for the file: gen_file\n",
    "    gen_file = read_large_file(file)\n",
    "\n",
    "    # Print the first three lines of the file\n",
    "    print(next(gen_file))\n",
    "    print(next(gen_file))\n",
    "    print(next(gen_file))"
   ]
  },
  {
   "cell_type": "markdown",
   "metadata": {},
   "source": [
    "Great! You've just created a generator function that you can use to help you process large files.\n",
    "\n",
    "Now let's use your generator function to process the World Bank dataset like you did previously. You will process the file line by line, to create a dictionary of the counts of how many times each country appears in a column in the dataset. For this exercise, however, you won't process just 1000 rows of data, you'll process the entire dataset!\n",
    "\n",
    "The generator function `read_large_file()` and the csv file `'world_dev_ind.csv'` are preloaded and ready for your use. Go for it!\n",
    "\n",
    "**INSTRUCTIONS**\n",
    "- Bind the file `'world_dev_ind.csv'` to `file` in the context manager with `open()`.\n",
    "- Complete the `for` loop so that it iterates over the generator from the call to `read_large_file()` to process all the rows of the file."
   ]
  },
  {
   "cell_type": "code",
   "execution_count": 23,
   "metadata": {
    "scrolled": true
   },
   "outputs": [
    {
     "name": "stdout",
     "output_type": "stream",
     "text": [
      "{'CountryName': 1, 'Arab World': 80, 'Caribbean small states': 77, 'Central Europe and the Baltics': 71, 'East Asia & Pacific (all income levels)': 122, 'East Asia & Pacific (developing only)': 123, 'Euro area': 119, 'Europe & Central Asia (all income levels)': 109, 'Europe & Central Asia (developing only)': 89, 'European Union': 116, 'Fragile and conflict affected situations': 76, 'Heavily indebted poor countries (HIPC)': 99, 'High income': 131, 'High income: nonOECD': 68, 'High income: OECD': 127, 'Latin America & Caribbean (all income levels)': 130, 'Latin America & Caribbean (developing only)': 133, 'Least developed countries: UN classification': 78, 'Low & middle income': 138, 'Low income': 80, 'Lower middle income': 126, 'Middle East & North Africa (all income levels)': 89, 'Middle East & North Africa (developing only)': 94, 'Middle income': 138, 'North America': 123, 'OECD members': 130, 'Other small states': 63, 'Pacific island small states': 66, 'Small states': 69, 'South Asia': 36}\n"
     ]
    }
   ],
   "source": [
    "# Initialize an empty dictionary: counts_dict\n",
    "counts_dict = {}\n",
    "\n",
    "# Open a connection to the file\n",
    "with open('world_dev_ind.csv') as file:\n",
    "\n",
    "    # Iterate over the generator from read_large_file()\n",
    "    for line in read_large_file(file):\n",
    "        #print(line)\n",
    "        row = line.split(',')\n",
    "        #print(row)\n",
    "        first_col = row[0]\n",
    "        #print(first_col)\n",
    "        if first_col in counts_dict.keys():\n",
    "            counts_dict[first_col] += 1\n",
    "        else:\n",
    "            counts_dict[first_col] = 1\n",
    "\n",
    "# Print            \n",
    "print(counts_dict)"
   ]
  },
  {
   "cell_type": "markdown",
   "metadata": {},
   "source": [
    "Another way to read data too large to store in memory in chunks is to read the file in as DataFrames of a certain length, say, 100. For example, with the pandas package (imported as `pd`), you can do `pd.read_csv(filename, chunksize=100)`. This creates an iterable reader object, which means that you can use `next()` on it.\n",
    "\n",
    "In this exercise, you will read a file in small DataFrame chunks with `read_csv()`. You're going to use the World Bank Indicators data `'world_ind_pop_data.csv'`, available in your current directory, to look at the urban population indicator for numerous countries and years.\n",
    "\n",
    "**INSTRUCTIONS**\n",
    "- Use `pd.read_csv()` to read in `'world_ind_pop_data.csv'` in chunks of size 10. Assign the result to `df_reader`.\n",
    "- Print the first two chunks from `df_reader`."
   ]
  },
  {
   "cell_type": "code",
   "execution_count": 24,
   "metadata": {},
   "outputs": [
    {
     "name": "stdout",
     "output_type": "stream",
     "text": [
      "                                 CountryName CountryCode  Year  \\\n",
      "0                                 Arab World         ARB  1960   \n",
      "1                     Caribbean small states         CSS  1960   \n",
      "2             Central Europe and the Baltics         CEB  1960   \n",
      "3    East Asia & Pacific (all income levels)         EAS  1960   \n",
      "4      East Asia & Pacific (developing only)         EAP  1960   \n",
      "5                                  Euro area         EMU  1960   \n",
      "6  Europe & Central Asia (all income levels)         ECS  1960   \n",
      "7    Europe & Central Asia (developing only)         ECA  1960   \n",
      "8                             European Union         EUU  1960   \n",
      "9   Fragile and conflict affected situations         FCS  1960   \n",
      "\n",
      "   Total Population  Urban population (% of total)  \n",
      "0      9.249590e+07                      31.285384  \n",
      "1      4.190810e+06                      31.597490  \n",
      "2      9.140158e+07                      44.507921  \n",
      "3      1.042475e+09                      22.471132  \n",
      "4      8.964930e+08                      16.917679  \n",
      "5      2.653965e+08                      62.096947  \n",
      "6      6.674890e+08                      55.378977  \n",
      "7      1.553174e+08                      38.066129  \n",
      "8      4.094985e+08                      61.212898  \n",
      "9      1.203546e+08                      17.891972  \n",
      "                                      CountryName CountryCode  Year  \\\n",
      "10         Heavily indebted poor countries (HIPC)         HPC  1960   \n",
      "11                                    High income         HIC  1960   \n",
      "12                           High income: nonOECD         NOC  1960   \n",
      "13                              High income: OECD         OEC  1960   \n",
      "14  Latin America & Caribbean (all income levels)         LCN  1960   \n",
      "15    Latin America & Caribbean (developing only)         LAC  1960   \n",
      "16   Least developed countries: UN classification         LDC  1960   \n",
      "17                            Low & middle income         LMY  1960   \n",
      "18                                     Low income         LIC  1960   \n",
      "19                            Lower middle income         LMC  1960   \n",
      "\n",
      "    Total Population  Urban population (% of total)  \n",
      "10      1.624912e+08                      12.236046  \n",
      "11      9.075975e+08                      62.680332  \n",
      "12      1.866767e+08                      56.107863  \n",
      "13      7.209208e+08                      64.285435  \n",
      "14      2.205642e+08                      49.284688  \n",
      "15      1.776822e+08                      44.863308  \n",
      "16      2.410728e+08                       9.616261  \n",
      "17      2.127373e+09                      21.272894  \n",
      "18      1.571884e+08                      11.498396  \n",
      "19      9.429116e+08                      19.810513  \n"
     ]
    }
   ],
   "source": [
    "# Import the pandas package\n",
    "import pandas as pd\n",
    "\n",
    "# Initialize reader object: df_rea\n",
    "df_reader =  pd.read_csv('CSV/world_ind_pop_data.csv', chunksize = 10)\n",
    "\n",
    "# Print two chunks\n",
    "print(next(df_reader))\n",
    "print(next(df_reader))"
   ]
  },
  {
   "cell_type": "markdown",
   "metadata": {},
   "source": [
    "In the previous exercise, you used `read_csv()` to read in DataFrame chunks from a large dataset. In this exercise, you will read in a file using a bigger DataFrame chunk size and then process the data from the first chunk.\n",
    "\n",
    "To process the data, you will create another DataFrame composed of only the rows from a specific country. You will then zip together two of the columns from the new DataFrame, `'Total Population'` and `'Urban population (% of total)'`. Finally, you will create a list of tuples from the zip object, where each tuple is composed of a value from each of the two columns mentioned.\n",
    "\n",
    "You're going to use the data from `'world_ind_pop_data.csv'`, available in your current directory. Pandas has been imported as `pd`.\n",
    "\n",
    "**INSTRUCTIONS**\n",
    "- Use `pd.read_csv()` to read in the file in `'world_ind_pop_data.csv'` in chunks of size `1000`. Assign the result to `urb_pop_reader`.\n",
    "- Get the **first** DataFrame chunk from the iterable `urb_pop_reader` and assign this to `df_urb_pop`.\n",
    "- Select only the rows of `df_urb_pop` that have a `'CountryCode'` of `'CEB'`. To do this, compare whether `df_urb_pop['CountryCode']` is **equal** to `'CEB'` within the square brackets in `df_urb_pop[____]`.\n",
    "- Using `zip()`, zip together the `'Total Population'` and `'Urban population (% of total)'` columns of `df_pop_ceb`. Assign the resulting zip object to `pops`."
   ]
  },
  {
   "cell_type": "code",
   "execution_count": 25,
   "metadata": {},
   "outputs": [
    {
     "name": "stdout",
     "output_type": "stream",
     "text": [
      "                               CountryName CountryCode  Year  \\\n",
      "0                               Arab World         ARB  1960   \n",
      "1                   Caribbean small states         CSS  1960   \n",
      "2           Central Europe and the Baltics         CEB  1960   \n",
      "3  East Asia & Pacific (all income levels)         EAS  1960   \n",
      "4    East Asia & Pacific (developing only)         EAP  1960   \n",
      "\n",
      "   Total Population  Urban population (% of total)  \n",
      "0      9.249590e+07                      31.285384  \n",
      "1      4.190810e+06                      31.597490  \n",
      "2      9.140158e+07                      44.507921  \n",
      "3      1.042475e+09                      22.471132  \n",
      "4      8.964930e+08                      16.917679  \n",
      "[(91401583.0, 44.5079211390026), (92237118.0, 45.206665319194), (93014890.0, 45.866564696018), (93845749.0, 46.5340927663649), (94722599.0, 47.2087429803526)]\n"
     ]
    }
   ],
   "source": [
    "# Initialize reader object: urb_pop_reader\n",
    "urb_pop_reader = pd.read_csv('CSV/world_ind_pop_data.csv',chunksize = 1000)\n",
    "\n",
    "# Get the first DataFrame chunk: df_urb_pop\n",
    "df_urb_pop = next(urb_pop_reader)\n",
    "#print(df_urb_pop)\n",
    "# Check out the head of the DataFrame\n",
    "print(df_urb_pop.head())\n",
    "\n",
    "# Check out specific country: df_pop_ceb\n",
    "df_pop_ceb = df_urb_pop[df_urb_pop['CountryCode'] == 'CEB']\n",
    "\n",
    "# Zip DataFrame columns of interest: pops\n",
    "pops = zip(df_pop_ceb['Total Population'],df_pop_ceb['Urban population (% of total)'])\n",
    "\n",
    "# Turn zip object into list: pops_list\n",
    "pops_list = list(pops)\n",
    "\n",
    "# Print pops_list\n",
    "print(pops_list)"
   ]
  },
  {
   "cell_type": "markdown",
   "metadata": {},
   "source": [
    "You're getting used to reading and processing data in chunks by now. Let's push your skills a little further by adding a column to a DataFrame.\n",
    "\n",
    "Starting from the code of the previous exercise, you will be using a list comprehension to create the values for a new column `'Total Urban Population'` from the list of tuples that you generated earlier. Recall from the previous exercise that the first and second elements of each tuple consist of, respectively, values from the columns `'Total Population'` and `'Urban population (% of total)'`. The values in this new column `'Total Urban Population'`, therefore, are the product of the first and second element in each tuple. Furthermore, because the 2nd element is a percentage, you need to divide the entire result by `100`, or alternatively, multiply it by `0.01`.\n",
    "\n",
    "You will also plot the data from this new column to create a visualization of the urban population data.\n",
    "\n",
    "The packages `pandas` and `matplotlib.pyplot` have been imported as `pd` and `plt` respectively for your use.\n",
    "\n",
    "**INSTRUCTIONS**\n",
    "- Write a list comprehension to generate a list of values from `pops_list` for the new column `'Total Urban Population'`. The output expression should be the product of the first and second element in each tuple in `pops_list`. Because the 2nd element is a percentage, you also need to either multiply the result by `0.01` or divide it by `100`. In addition, note that the column `'Total Urban Population'` should only be able to take on integer values. To ensure this, make sure you cast the output expression to an integer with `int()`.\n",
    "- Create a scatter plot where the x-axis are values from the `'Year'` column and the y-axis are values from the `'Total Urban Population'` column."
   ]
  },
  {
   "cell_type": "code",
   "execution_count": 26,
   "metadata": {},
   "outputs": [],
   "source": [
    "import matplotlib.pyplot as plt\n",
    "plt.style.use('ggplot')"
   ]
  },
  {
   "cell_type": "code",
   "execution_count": 27,
   "metadata": {},
   "outputs": [
    {
     "data": {
      "image/png": "[encoded data removed]",
      "text/plain": [
       "<Figure size 864x504 with 1 Axes>"
      ]
     },
     "execution_count": 27,
     "metadata": {
      "image/png": {
       "height": 437,
       "width": 729
      }
     },
     "output_type": "execute_result"
    }
   ],
   "source": [
    "# Code from previous exercise\n",
    "urb_pop_reader = pd.read_csv('CSV/world_ind_pop_data.csv', chunksize=1000)\n",
    "df_urb_pop = next(urb_pop_reader)\n",
    "df_pop_ceb = df_urb_pop.loc[df_urb_pop['CountryCode'] == 'CEB'].copy()\n",
    "pops = zip(df_pop_ceb['Total Population'], \n",
    "           df_pop_ceb['Urban population (% of total)'])\n",
    "pops_list = list(pops)\n",
    "\n",
    "# Use list comprehension to create new DataFrame column 'Total Urban Population'\n",
    "df_pop_ceb['Total Urban Population'] = [int(tup[0] * tup[1] * 0.01) for tup in pops_list]\n",
    "\n",
    "# Plot urban population data\n",
    "df_pop_ceb.plot(kind='scatter', x='Year', y='Total Urban Population')\n",
    "plt.show()"
   ]
  },
  {
   "cell_type": "markdown",
   "metadata": {},
   "source": [
    "In the previous exercises, you've only processed the data from the first DataFrame chunk. This time, you will aggregate the results over all the DataFrame chunks in the dataset. This basically means you will be processing the **entire** dataset now. This is neat because you're going to be able to process the entire large dataset by just working on smaller pieces of it!\n",
    "\n",
    "You're going to use the data from `'world_ind_pop_data.csv'`, available in your current directory. The packages `pandas` and `matplotlib.pyplot` have been imported as `pd` and `plt` respectively for your use.\n",
    "\n",
    "**INSTRUCTIONS**\n",
    "- Initialize an empty DataFrame `data` using `pd.DataFrame()`.\n",
    "- In the `for` loop, iterate over `urb_pop_reader` to be able to process all the DataFrame chunks in the dataset.\n",
    "- Using `append()` on `data`, append `df_pop_ceb` to `data`."
   ]
  },
  {
   "cell_type": "code",
   "execution_count": 28,
   "metadata": {},
   "outputs": [
    {
     "data": {
      "image/png": "[encoded data removed]",
      "text/plain": [
       "<Figure size 864x504 with 1 Axes>"
      ]
     },
     "execution_count": 28,
     "metadata": {
      "image/png": {
       "height": 437,
       "width": 722
      }
     },
     "output_type": "execute_result"
    }
   ],
   "source": [
    "# Initialize reader object: urb_pop_reader\n",
    "urb_pop_reader = pd.read_csv('CSV/world_ind_pop_data.csv', chunksize=1000)\n",
    "\n",
    "# Initialize empty DataFrame: data\n",
    "data = pd.DataFrame()\n",
    "\n",
    "# Iterate over each DataFrame chunk\n",
    "for df_urb_pop in urb_pop_reader:\n",
    "\n",
    "    # Check out specific country: df_pop_ceb\n",
    "    df_pop_ceb = df_urb_pop.loc[df_urb_pop['CountryCode'] == 'CEB'].copy()\n",
    "\n",
    "    # Zip DataFrame columns of interest: pops\n",
    "    pops = zip(df_pop_ceb['Total Population'],\n",
    "                df_pop_ceb['Urban population (% of total)'])\n",
    "\n",
    "    # Turn zip object into list: pops_list\n",
    "    pops_list = list(pops)\n",
    "\n",
    "    # Use list comprehension to create new DataFrame column 'Total Urban Population'\n",
    "    df_pop_ceb['Total Urban Population'] = [int(tup[0] * tup[1] * 0.01) for tup in pops_list]\n",
    "    #print(df_pop_ceb)\n",
    "    # Append DataFrame chunk to data: data\n",
    "    data = data.append(df_pop_ceb)\n",
    "\n",
    "# Plot urban population data\n",
    "data.plot(kind='scatter', x='Year', y='Total Urban Population')\n",
    "plt.show()"
   ]
  },
  {
   "cell_type": "markdown",
   "metadata": {},
   "source": [
    "This is the last leg. You've learned a lot about processing a large dataset in chunks. In this last exercise, you will put all the code for processing the data into a single function so that you can reuse the code without having to rewrite the same things all over again.\n",
    "\n",
    "You're going to define the function `plot_pop()` which takes two arguments: the filename of the file to be processed, and the country code of the rows you want to process in the dataset.\n",
    "\n",
    "Because all of the previous code you've written in the previous exercises will be housed in `plot_pop()`, calling the function already does the following:\n",
    "\n",
    "Loading of the file chunk by chunk,\n",
    "Creating the new column of urban population values, and\n",
    "Plotting the urban population data.\n",
    "That's a lot of work, but the function now makes it convenient to repeat the same process for whatever file and country code you want to process and visualize!\n",
    "\n",
    "You're going to use the data from `'world_ind_pop_data.csv'`, available in your current directory. The packages pandas and matplotlib.pyplot has been imported as `pd` and `plt` respectively for your use.\n",
    "\n",
    "After you are done, take a moment to look at the plots and reflect on the new skills you have acquired. The journey doesn't end here! If you have enjoyed working with this data, you can continue exploring it using the pre-processed version available on Kaggle.\n",
    "\n",
    "**INSTRUCTIONS**\n",
    "- Define the function `plot_pop()` that has two arguments: first is `filename` for the file to process and second is `country_code` for the country to be processed in the dataset.\n",
    "- Call `plot_pop()` to process the data for country code `'CEB'` in the file `'world_ind_pop_data.csv'`.\n",
    "- Call `plot_pop()` to process the data for country code `'ARB'` in the file `'world_ind_pop_data.csv'`."
   ]
  },
  {
   "cell_type": "code",
   "execution_count": 29,
   "metadata": {},
   "outputs": [
    {
     "name": "stdout",
     "output_type": "stream",
     "text": [
      "<class 'pandas.core.frame.DataFrame'>\n",
      "                        CountryName CountryCode  Year  Total Population  \\\n",
      "2    Central Europe and the Baltics         CEB  1960        91401583.0   \n",
      "244  Central Europe and the Baltics         CEB  1961        92237118.0   \n",
      "486  Central Europe and the Baltics         CEB  1962        93014890.0   \n",
      "728  Central Europe and the Baltics         CEB  1963        93845749.0   \n",
      "970  Central Europe and the Baltics         CEB  1964        94722599.0   \n",
      "\n",
      "     Urban population (% of total)  \n",
      "2                        44.507921  \n",
      "244                      45.206665  \n",
      "486                      45.866565  \n",
      "728                      46.534093  \n",
      "970                      47.208743  \n",
      "<class 'pandas.core.frame.DataFrame'>\n",
      "                         CountryName CountryCode  Year  Total Population  \\\n",
      "1212  Central Europe and the Baltics         CEB  1965        95447065.0   \n",
      "1454  Central Europe and the Baltics         CEB  1966        96148635.0   \n",
      "1696  Central Europe and the Baltics         CEB  1967        97043587.0   \n",
      "1938  Central Europe and the Baltics         CEB  1968        97882394.0   \n",
      "\n",
      "      Urban population (% of total)  \n",
      "1212                      47.880308  \n",
      "1454                      48.505097  \n",
      "1696                      49.067767  \n",
      "1938                      49.638696  \n",
      "<class 'pandas.core.frame.DataFrame'>\n",
      "                         CountryName CountryCode  Year  Total Population  \\\n",
      "2180  Central Europe and the Baltics         CEB  1969        98602140.0   \n",
      "2422  Central Europe and the Baltics         CEB  1970        99133296.0   \n",
      "2664  Central Europe and the Baltics         CEB  1971        99638983.0   \n",
      "2906  Central Europe and the Baltics         CEB  1972       100363597.0   \n",
      "\n",
      "      Urban population (% of total)  \n",
      "2180                      50.215658  \n",
      "2422                      50.780410  \n",
      "2664                      51.429566  \n",
      "2906                      52.162106  \n",
      "<class 'pandas.core.frame.DataFrame'>\n",
      "                         CountryName CountryCode  Year  Total Population  \\\n",
      "3148  Central Europe and the Baltics         CEB  1973       101120519.0   \n",
      "3390  Central Europe and the Baltics         CEB  1974       101946256.0   \n",
      "3632  Central Europe and the Baltics         CEB  1975       102862489.0   \n",
      "3874  Central Europe and the Baltics         CEB  1976       103770134.0   \n",
      "\n",
      "      Urban population (% of total)  \n",
      "3148                      52.894471  \n",
      "3390                      53.627174  \n",
      "3632                      54.349653  \n",
      "3874                      55.061127  \n",
      "<class 'pandas.core.frame.DataFrame'>\n",
      "                         CountryName CountryCode  Year  Total Population  \\\n",
      "4116  Central Europe and the Baltics         CEB  1977       104589313.0   \n",
      "4358  Central Europe and the Baltics         CEB  1978       105304312.0   \n",
      "4600  Central Europe and the Baltics         CEB  1979       105924838.0   \n",
      "4842  Central Europe and the Baltics         CEB  1980       106564905.0   \n",
      "\n",
      "      Urban population (% of total)  \n",
      "4116                      55.788686  \n",
      "4358                      56.530668  \n",
      "4600                      57.213135  \n",
      "4842                      57.822931  \n",
      "<class 'pandas.core.frame.DataFrame'>\n",
      "                         CountryName CountryCode  Year  Total Population  \\\n",
      "5084  Central Europe and the Baltics         CEB  1981       107187982.0   \n",
      "5326  Central Europe and the Baltics         CEB  1982       107770794.0   \n",
      "5568  Central Europe and the Baltics         CEB  1983       108326895.0   \n",
      "5810  Central Europe and the Baltics         CEB  1984       108853181.0   \n",
      "\n",
      "      Urban population (% of total)  \n",
      "5084                      58.286691  \n",
      "5326                      58.683563  \n",
      "5568                      59.081567  \n",
      "5810                      59.480213  \n",
      "<class 'pandas.core.frame.DataFrame'>\n",
      "                         CountryName CountryCode  Year  Total Population  \\\n",
      "6052  Central Europe and the Baltics         CEB  1985       109360296.0   \n",
      "6294  Central Europe and the Baltics         CEB  1986       109847148.0   \n",
      "6536  Central Europe and the Baltics         CEB  1987       110296680.0   \n",
      "6778  Central Europe and the Baltics         CEB  1988       110688533.0   \n",
      "\n",
      "      Urban population (% of total)  \n",
      "6052                      59.873735  \n",
      "6294                      60.258087  \n",
      "6536                      60.638614  \n",
      "6778                      61.020489  \n",
      "<class 'pandas.core.frame.DataFrame'>\n",
      "                         CountryName CountryCode  Year  Total Population  \\\n",
      "7020  Central Europe and the Baltics         CEB  1989       110801380.0   \n",
      "7262  Central Europe and the Baltics         CEB  1990       110745760.0   \n",
      "7506  Central Europe and the Baltics         CEB  1991       110290445.0   \n",
      "7750  Central Europe and the Baltics         CEB  1992       110005636.0   \n",
      "7993  Central Europe and the Baltics         CEB  1993       110081461.0   \n",
      "\n",
      "      Urban population (% of total)  \n",
      "7020                      61.312200  \n",
      "7262                      61.520994  \n",
      "7506                      61.741539  \n",
      "7750                      61.820288  \n",
      "7993                      61.779410  \n",
      "<class 'pandas.core.frame.DataFrame'>\n",
      "                         CountryName CountryCode  Year  Total Population  \\\n",
      "8236  Central Europe and the Baltics         CEB  1994       110019570.0   \n",
      "8479  Central Europe and the Baltics         CEB  1995       109913216.0   \n",
      "8723  Central Europe and the Baltics         CEB  1996       109563097.0   \n",
      "8967  Central Europe and the Baltics         CEB  1997       109459093.0   \n",
      "\n",
      "      Urban population (% of total)  \n",
      "8236                      61.751131  \n",
      "8479                      61.715963  \n",
      "8723                      61.695813  \n",
      "8967                      61.661657  \n",
      "<class 'pandas.core.frame.DataFrame'>\n",
      "                         CountryName CountryCode  Year  Total Population  \\\n",
      "9211  Central Europe and the Baltics         CEB  1998       109207205.0   \n",
      "9456  Central Europe and the Baltics         CEB  1999       109092730.0   \n",
      "9701  Central Europe and the Baltics         CEB  2000       108405522.0   \n",
      "9946  Central Europe and the Baltics         CEB  2001       107811539.0   \n",
      "\n",
      "      Urban population (% of total)  \n",
      "9211                      61.632891  \n",
      "9456                      61.595078  \n",
      "9701                      61.567439  \n",
      "9946                      61.571806  \n",
      "<class 'pandas.core.frame.DataFrame'>\n",
      "                          CountryName CountryCode  Year  Total Population  \\\n",
      "10191  Central Europe and the Baltics         CEB  2002       107128884.0   \n",
      "10436  Central Europe and the Baltics         CEB  2003       106808998.0   \n",
      "10681  Central Europe and the Baltics         CEB  2004       106530417.0   \n",
      "10926  Central Europe and the Baltics         CEB  2005       106254694.0   \n",
      "\n",
      "       Urban population (% of total)  \n",
      "10191                      61.632261  \n",
      "10436                      61.674400  \n",
      "10681                      61.716750  \n",
      "10926                      61.767230  \n",
      "<class 'pandas.core.frame.DataFrame'>\n",
      "                          CountryName CountryCode  Year  Total Population  \\\n",
      "11171  Central Europe and the Baltics         CEB  2006       105999320.0   \n",
      "11416  Central Europe and the Baltics         CEB  2007       105504531.0   \n",
      "11661  Central Europe and the Baltics         CEB  2008       105126686.0   \n",
      "11906  Central Europe and the Baltics         CEB  2009       104924372.0   \n",
      "\n",
      "       Urban population (% of total)  \n",
      "11171                      61.823951  \n",
      "11416                      61.887634  \n",
      "11661                      61.964993  \n",
      "11906                      62.020160  \n",
      "<class 'pandas.core.frame.DataFrame'>\n",
      "                          CountryName CountryCode  Year  Total Population  \\\n",
      "12151  Central Europe and the Baltics         CEB  2010       104543801.0   \n",
      "12396  Central Europe and the Baltics         CEB  2011       104174038.0   \n",
      "12641  Central Europe and the Baltics         CEB  2012       103935318.0   \n",
      "12886  Central Europe and the Baltics         CEB  2013       103713726.0   \n",
      "\n",
      "       Urban population (% of total)  \n",
      "12151                      62.059417  \n",
      "12396                      62.099517  \n",
      "12641                      62.141847  \n",
      "12886                      62.197640  \n",
      "<class 'pandas.core.frame.DataFrame'>\n"
     ]
    },
    {
     "name": "stdout",
     "output_type": "stream",
     "text": [
      "                          CountryName CountryCode  Year  Total Population  \\\n",
      "13131  Central Europe and the Baltics         CEB  2014       103455133.0   \n",
      "\n",
      "       Urban population (% of total)  \n",
      "13131                      62.267434  \n"
     ]
    },
    {
     "data": {
      "image/png": "[encoded data removed]",
      "text/plain": [
       "<Figure size 864x504 with 1 Axes>"
      ]
     },
     "execution_count": 29,
     "metadata": {
      "image/png": {
       "height": 437,
       "width": 722
      }
     },
     "output_type": "execute_result"
    },
    {
     "name": "stdout",
     "output_type": "stream",
     "text": [
      "<class 'pandas.core.frame.DataFrame'>\n",
      "    CountryName CountryCode  Year  Total Population  \\\n",
      "0    Arab World         ARB  1960        92495902.0   \n",
      "242  Arab World         ARB  1961        95041593.0   \n",
      "484  Arab World         ARB  1962        97691498.0   \n",
      "726  Arab World         ARB  1963       100438281.0   \n",
      "968  Arab World         ARB  1964       103273929.0   \n",
      "\n",
      "     Urban population (% of total)  \n",
      "0                        31.285384  \n",
      "242                      32.029076  \n",
      "484                      32.780323  \n",
      "726                      33.555881  \n",
      "968                      34.358432  \n",
      "<class 'pandas.core.frame.DataFrame'>\n",
      "     CountryName CountryCode  Year  Total Population  \\\n",
      "1210  Arab World         ARB  1965       106192292.0   \n",
      "1452  Arab World         ARB  1966       109200085.0   \n",
      "1694  Arab World         ARB  1967       112300575.0   \n",
      "1936  Arab World         ARB  1968       115477026.0   \n",
      "\n",
      "      Urban population (% of total)  \n",
      "1210                      35.198506  \n",
      "1452                      35.992147  \n",
      "1694                      36.672026  \n",
      "1936                      37.362273  \n",
      "<class 'pandas.core.frame.DataFrame'>\n",
      "     CountryName CountryCode  Year  Total Population  \\\n",
      "2178  Arab World         ARB  1969       118706804.0   \n",
      "2420  Arab World         ARB  1970       121981406.0   \n",
      "2662  Arab World         ARB  1971       125273032.0   \n",
      "2904  Arab World         ARB  1972       128622897.0   \n",
      "\n",
      "      Urban population (% of total)  \n",
      "2178                      38.062583  \n",
      "2420                      38.777192  \n",
      "2662                      39.479791  \n",
      "2904                      40.206495  \n",
      "<class 'pandas.core.frame.DataFrame'>\n",
      "     CountryName CountryCode  Year  Total Population  \\\n",
      "3146  Arab World         ARB  1973       132115341.0   \n",
      "3388  Arab World         ARB  1974       135862252.0   \n",
      "3630  Arab World         ARB  1975       139939303.0   \n",
      "3872  Arab World         ARB  1976       144379199.0   \n",
      "\n",
      "      Urban population (% of total)  \n",
      "3146                      40.925297  \n",
      "3388                      41.573583  \n",
      "3630                      42.182737  \n",
      "3872                      42.758316  \n",
      "<class 'pandas.core.frame.DataFrame'>\n",
      "     CountryName CountryCode  Year  Total Population  \\\n",
      "4114  Arab World         ARB  1977       149151171.0   \n",
      "4356  Arab World         ARB  1978       154178332.0   \n",
      "4598  Arab World         ARB  1979       159346617.0   \n",
      "4840  Arab World         ARB  1980       164571043.0   \n",
      "\n",
      "      Urban population (% of total)  \n",
      "4114                      43.288701  \n",
      "4356                      43.807532  \n",
      "4598                      44.326276  \n",
      "4840                      44.871899  \n",
      "<class 'pandas.core.frame.DataFrame'>\n",
      "     CountryName CountryCode  Year  Total Population  \\\n",
      "5082  Arab World         ARB  1981       169828213.0   \n",
      "5324  Arab World         ARB  1982       175134529.0   \n",
      "5566  Arab World         ARB  1983       180493632.0   \n",
      "5808  Arab World         ARB  1984       185880521.0   \n",
      "\n",
      "      Urban population (% of total)  \n",
      "5082                      45.438812  \n",
      "5324                      46.011908  \n",
      "5566                      46.615613  \n",
      "5808                      47.257873  \n",
      "<class 'pandas.core.frame.DataFrame'>\n",
      "     CountryName CountryCode  Year  Total Population  \\\n",
      "6050  Arab World         ARB  1985       191425366.0   \n",
      "6292  Arab World         ARB  1986       197062077.0   \n",
      "6534  Arab World         ARB  1987       202715574.0   \n",
      "6776  Arab World         ARB  1988       208407618.0   \n",
      "\n",
      "      Urban population (% of total)  \n",
      "6050                      47.875733  \n",
      "6292                      48.484801  \n",
      "6534                      49.023237  \n",
      "6776                      49.478034  \n",
      "<class 'pandas.core.frame.DataFrame'>\n",
      "     CountryName CountryCode  Year  Total Population  \\\n",
      "7018  Arab World         ARB  1989       214097076.0   \n",
      "7260  Arab World         ARB  1990       221928852.0   \n",
      "7504  Arab World         ARB  1991       228177371.0   \n",
      "7748  Arab World         ARB  1992       232406302.0   \n",
      "7991  Arab World         ARB  1993       238577631.0   \n",
      "\n",
      "      Urban population (% of total)  \n",
      "7018                      49.877504  \n",
      "7260                      50.417098  \n",
      "7504                      50.811768  \n",
      "7748                      50.789867  \n",
      "7991                      51.135925  \n",
      "<class 'pandas.core.frame.DataFrame'>\n",
      "     CountryName CountryCode  Year  Total Population  \\\n",
      "8234  Arab World         ARB  1994       244799607.0   \n",
      "8477  Arab World         ARB  1995       252465890.0   \n",
      "8721  Arab World         ARB  1996       258300051.0   \n",
      "8965  Arab World         ARB  1997       264052700.0   \n",
      "\n",
      "      Urban population (% of total)  \n",
      "8234                      51.378791  \n",
      "8477                      51.870244  \n",
      "8721                      52.048098  \n",
      "8965                      52.270090  \n",
      "<class 'pandas.core.frame.DataFrame'>\n",
      "     CountryName CountryCode  Year  Total Population  \\\n",
      "9209  Arab World         ARB  1998       269737923.0   \n",
      "9454  Arab World         ARB  1999       275492163.0   \n",
      "9699  Arab World         ARB  2000       281355774.0   \n",
      "9944  Arab World         ARB  2001       287358599.0   \n",
      "\n",
      "      Urban population (% of total)  \n",
      "9209                      52.530554  \n",
      "9454                      52.804180  \n",
      "9699                      53.079995  \n",
      "9944                      53.355371  \n",
      "<class 'pandas.core.frame.DataFrame'>\n",
      "      CountryName CountryCode  Year  Total Population  \\\n",
      "10189  Arab World         ARB  2002       293501628.0   \n",
      "10434  Arab World         ARB  2003       299853418.0   \n",
      "10679  Arab World         ARB  2004       306505782.0   \n",
      "10924  Arab World         ARB  2005       313508929.0   \n",
      "\n",
      "       Urban population (% of total)  \n",
      "10189                      53.633286  \n",
      "10434                      53.917950  \n",
      "10679                      54.217443  \n",
      "10924                      54.544754  \n",
      "<class 'pandas.core.frame.DataFrame'>\n",
      "      CountryName CountryCode  Year  Total Population  \\\n",
      "11169  Arab World         ARB  2006       320912518.0   \n",
      "11414  Arab World         ARB  2007       328668135.0   \n",
      "11659  Arab World         ARB  2008       336662433.0   \n",
      "11904  Arab World         ARB  2009       344702311.0   \n",
      "\n",
      "       Urban population (% of total)  \n",
      "11169                      54.892444  \n",
      "11414                      55.241933  \n",
      "11659                      55.590785  \n",
      "11904                      55.934425  \n",
      "<class 'pandas.core.frame.DataFrame'>\n",
      "      CountryName CountryCode  Year  Total Population  \\\n",
      "12149  Arab World         ARB  2010       352640325.0   \n",
      "12394  Arab World         ARB  2011       360761571.0   \n",
      "12639  Arab World         ARB  2012       368914383.0   \n",
      "12884  Arab World         ARB  2013       377096710.0   \n",
      "\n",
      "       Urban population (% of total)  \n",
      "12149                      56.265872  \n",
      "12394                      56.565077  \n",
      "12639                      56.849003  \n",
      "12884                      57.121696  \n",
      "<class 'pandas.core.frame.DataFrame'>\n",
      "      CountryName CountryCode  Year  Total Population  \\\n",
      "13129  Arab World         ARB  2014       385272539.0   \n",
      "\n",
      "       Urban population (% of total)  \n",
      "13129                      57.388457  \n"
     ]
    },
    {
     "data": {
      "image/png": "[encoded data removed]",
      "text/plain": [
       "<Figure size 864x504 with 1 Axes>"
      ]
     },
     "execution_count": 29,
     "metadata": {
      "image/png": {
       "height": 437,
       "width": 729
      }
     },
     "output_type": "execute_result"
    }
   ],
   "source": [
    "# Define plot_pop()\n",
    "def plot_pop(filename,country_code):\n",
    "\n",
    "    # Initialize reader object: urb_pop_reader\n",
    "    urb_pop_reader = pd.read_csv(filename, chunksize=1000)\n",
    "    #print(urb_pop_reader)\n",
    "    # Initialize empty DataFrame: data\n",
    "    data = pd.DataFrame()\n",
    "    # Iterate over each DataFrame chunk\n",
    "    for df_urb_pop in urb_pop_reader:\n",
    "        # Check out specific country: df_pop_ceb\n",
    "        df_pop_ceb = df_urb_pop.loc[df_urb_pop['CountryCode'] == country_code].copy()\n",
    "        #print(df_urb_pop)\n",
    "        print(type(df_urb_pop))\n",
    "        print(df_pop_ceb)\n",
    "        # Zip DataFrame columns of interest: pops\n",
    "        pops = zip(df_pop_ceb['Total Population'],\n",
    "                    df_pop_ceb['Urban population (% of total)'])\n",
    "\n",
    "        # Turn zip object into list: pops_list\n",
    "        pops_list = list(pops)\n",
    "\n",
    "        # Use list comprehension to create new DataFrame column 'Total Urban Population'\n",
    "        df_pop_ceb['Total Urban Population'] = [int(tup[0] * tup[1] * 0.01) for tup in pops_list]\n",
    "    \n",
    "        # Append DataFrame chunk to data: data\n",
    "        data = data.append(df_pop_ceb)\n",
    "\n",
    "    # Plot urban population data\n",
    "    data.plot(kind='scatter', x='Year', y='Total Urban Population')\n",
    "    plt.show()\n",
    "\n",
    "# Set the filename: fn\n",
    "fn = 'world_ind_pop_data.csv'\n",
    "\n",
    "# Call plot_pop for country code 'CEB'\n",
    "plot_pop(fn, 'CEB')\n",
    "\n",
    "# Call plot_pop for country code 'ARB'\n",
    "plot_pop(fn, 'ARB')\n"
   ]
  },
  {
   "cell_type": "code",
   "execution_count": 0,
   "metadata": {},
   "outputs": [],
   "source": []
  }
 ],
 "metadata": {
  "kernelspec": {
   "display_name": "Python 3",
   "language": "python",
   "name": "python3"
  },
  "language_info": {
   "codemirror_mode": {
    "name": "ipython",
    "version": 3
   },
   "file_extension": ".py",
   "mimetype": "text/x-python",
   "name": "python",
   "nbconvert_exporter": "python",
   "pygments_lexer": "ipython3",
   "version": "3.8.5"
  },
  "varInspector": {
   "cols": {
    "lenName": 16,
    "lenType": 16,
    "lenVar": 40
   },
   "kernels_config": {
    "python": {
     "delete_cmd_postfix": "",
     "delete_cmd_prefix": "del ",
     "library": "var_list.py",
     "varRefreshCmd": "print(var_dic_list())"
    },
    "r": {
     "delete_cmd_postfix": ") ",
     "delete_cmd_prefix": "rm(",
     "library": "var_list.r",
     "varRefreshCmd": "cat(var_dic_list()) "
    }
   },
   "types_to_exclude": [
    "module",
    "function",
    "builtin_function_or_method",
    "instance",
    "_Feature"
   ],
   "window_display": false
  }
 },
 "nbformat": 4,
 "nbformat_minor": 4
}
