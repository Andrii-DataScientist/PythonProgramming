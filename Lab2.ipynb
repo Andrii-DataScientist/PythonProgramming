{
 "cells": [
  {
   "cell_type": "markdown",
   "metadata": {},
   "source": [
    "In the last few exercises you've learned everything there is to know about heights and weights of baseball players. Now it's time to dive into another sport: soccer.\n",
    "\n",
    "You've contacted FIFA for some data and they handed you two lists. The lists are the following:"
   ]
  },
  {
   "cell_type": "code",
   "execution_count": 1,
   "metadata": {},
   "outputs": [
    {
     "name": "stdout",
     "output_type": "stream",
     "text": [
      "positions = ['GK', 'M', 'A', 'D', 'M']\n",
      "heights = [191, 184, 185, 180, 181]\n"
     ]
    }
   ],
   "source": [
    "import pandas as pd\n",
    "# Import numpy\n",
    "import numpy as np\n",
    "df_fifa = pd.read_csv('CSV/fifa.csv', index_col = 0)\n",
    "heights = df_fifa['height'].tolist()\n",
    "positions = df_fifa['position'].tolist()\n",
    "print('positions =', positions[:5])\n",
    "print('heights =', heights[:5])"
   ]
  },
  {
   "cell_type": "markdown",
   "metadata": {},
   "source": [
    "Each element in the lists corresponds to a player. The first list, `positions`, contains strings representing each player's position. The possible positions are: `'GK'` (goalkeeper), `'M'` (midfield), `'A'` (attack) and `'D'` (defense). The second list, `heights`, contains integers representing the height of the player in cm. The first player in the lists is a goalkeeper and is pretty tall (191 cm).\n",
    "\n",
    "You're fairly confident that the median height of goalkeepers is higher than that of other players on the soccer field. Some of your friends don't believe you, so you are determined to show them using the data you received from FIFA and your newly acquired Python skills.\n",
    "\n",
    "**INSTRUCTIONS**\n",
    "\n",
    "- Convert `heights` and `positions`, which are regular lists, to numpy arrays. Call them `np_heights` and `np_positions`.\n",
    "- Extract all the heights of the goalkeepers. You can use a little trick here: use `np_positions == 'GK'` as an index for `np_heights`. Assign the result to `gk_heights`.\n",
    "- Extract all the heights of all the other players. This time use `np_positions != 'GK'` as an index for `np_heights`. Assign the result to `other_heights`.\n",
    "- Print out the median height of the goalkeepers using `np.median()`. Replace `None` with the correct code.\n",
    "- Do the same for the other players. Print out their median height. Replace `None` with the correct code."
   ]
  },
  {
   "cell_type": "code",
   "execution_count": 2,
   "metadata": {},
   "outputs": [
    {
     "name": "stdout",
     "output_type": "stream",
     "text": [
      "Median height of goalkeepers: 188.0\n",
      "Median height of other players: 181.0\n"
     ]
    }
   ],
   "source": [
    "\n",
    "\n",
    "# Convert positions and heights to numpy arrays: print(np_heights), np_heights\n",
    "np_heights = np.array(heights)\n",
    "np_positions = np.array(positions)\n",
    "\n",
    "# Heights of the goalkeepers: gk_heights\n",
    "gk_heights = np_heights[np_positions == 'GK']\n",
    "#print(gk_heights)\n",
    "\n",
    "# Heights of the other players: other_heights\n",
    "other_heights = np_heights[np_positions != 'GK']\n",
    "#print(other_heights)\n",
    "\n",
    "# Print out the median height of goalkeepers. Replace 'None'\n",
    "gk_median = np.median(gk_heights)\n",
    "print(\"Median height of goalkeepers: \" + str(gk_median))\n",
    "\n",
    "# Print out the median height of other players. Replace 'None'\n",
    "other_median = np.median(other_heights)\n",
    "print(\"Median height of other players: \" + str(other_median))"
   ]
  },
  {
   "cell_type": "markdown",
   "metadata": {},
   "source": [
    "Знайти добуток квадратів суми зростів нападаючих нижчих 180см і медіани захисників вищих 175см"
   ]
  },
  {
   "cell_type": "code",
   "execution_count": 27,
   "metadata": {},
   "outputs": [
    {
     "name": "stdout",
     "output_type": "stream",
     "text": [
      "21516195856\n",
      "184.0\n"
     ]
    }
   ],
   "source": [
    "np_heights = np.array(heights)\n",
    "np_positions = np.array(positions)\n",
    "\n",
    "a_heights = np_heights[np_positions == 'A']\n",
    "#print(a_heights)\n",
    "\n",
    "#A_heights = (a_heights[a_heights < 180])\n",
    "A_heights = np.sum(a_heights[a_heights < 180])\n",
    "print(A_heights ** 2)\n",
    "\n",
    "d_heights = np_heights[np_positions == 'D']\n",
    "D_heights = d_heights[d_heights > 175]\n",
    "DM_heights = np.median(D_heights)\n",
    "print(A_heights ** 2 * DM)"
   ]
  }
 ],
 "metadata": {
  "kernelspec": {
   "display_name": "Python 3",
   "language": "python",
   "name": "python3"
  },
  "language_info": {
   "codemirror_mode": {
    "name": "ipython",
    "version": 3
   },
   "file_extension": ".py",
   "mimetype": "text/x-python",
   "name": "python",
   "nbconvert_exporter": "python",
   "pygments_lexer": "ipython3",
   "version": "3.8.5"
  },
  "varInspector": {
   "cols": {
    "lenName": 16,
    "lenType": 16,
    "lenVar": 40
   },
   "kernels_config": {
    "python": {
     "delete_cmd_postfix": "",
     "delete_cmd_prefix": "del ",
     "library": "var_list.py",
     "varRefreshCmd": "print(var_dic_list())"
    },
    "r": {
     "delete_cmd_postfix": ") ",
     "delete_cmd_prefix": "rm(",
     "library": "var_list.r",
     "varRefreshCmd": "cat(var_dic_list()) "
    }
   },
   "types_to_exclude": [
    "module",
    "function",
    "builtin_function_or_method",
    "instance",
    "_Feature"
   ],
   "window_display": false
  }
 },
 "nbformat": 4,
 "nbformat_minor": 1
}
