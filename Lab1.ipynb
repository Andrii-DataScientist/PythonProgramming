{
 "cells": [
  {
   "cell_type": "markdown",
   "metadata": {},
   "source": [
    "## Review exercises:\n",
    "- Write a script that Jupyter won't let you run because it has a syntax error."
   ]
  },
  {
   "cell_type": "code",
   "execution_count": 11,
   "metadata": {
    "scrolled": true
   },
   "outputs": [
    {
     "ename": "SyntaxError",
     "evalue": "invalid syntax (<ipython-input-11-1c0439cab2aa>, line 1)",
     "output_type": "error",
     "traceback": [
      "\u001b[0;36m  File \u001b[0;32m\"<ipython-input-11-1c0439cab2aa>\"\u001b[0;36m, line \u001b[0;32m1\u001b[0m\n\u001b[0;31m    print (\"HelloWorld\"))\u001b[0m\n\u001b[0m                        ^\u001b[0m\n\u001b[0;31mSyntaxError\u001b[0m\u001b[0;31m:\u001b[0m invalid syntax\n"
     ]
    }
   ],
   "source": [
    "print(\"HelloWorld\"))"
   ]
  },
  {
   "cell_type": "markdown",
   "metadata": {},
   "source": [
    "- Write a script that will only crash your program once it is already running because it has a run-time error."
   ]
  },
  {
   "cell_type": "code",
   "execution_count": 27,
   "metadata": {
    "scrolled": true
   },
   "outputs": [
    {
     "ename": "NameError",
     "evalue": "name 'variable' is not defined",
     "output_type": "error",
     "traceback": [
      "\u001b[0;31m---------------------------------------------------------------------------\u001b[0m",
      "\u001b[0;31mNameError\u001b[0m                                 Traceback (most recent call last)",
      "\u001b[0;32m<ipython-input-27-64346e22e1d9>\u001b[0m in \u001b[0;36m<module>\u001b[0;34m\u001b[0m\n\u001b[1;32m      1\u001b[0m \u001b[0mVariable\u001b[0m \u001b[0;34m=\u001b[0m \u001b[0;34m\"hello\"\u001b[0m\u001b[0;34m\u001b[0m\u001b[0;34m\u001b[0m\u001b[0m\n\u001b[0;32m----> 2\u001b[0;31m \u001b[0mprint\u001b[0m\u001b[0;34m(\u001b[0m\u001b[0mvariable\u001b[0m\u001b[0;34m)\u001b[0m\u001b[0;34m\u001b[0m\u001b[0;34m\u001b[0m\u001b[0m\n\u001b[0m",
      "\u001b[0;31mNameError\u001b[0m: name 'variable' is not defined"
     ]
    }
   ],
   "source": [
    "Variable = \"hello\"\n",
    "print(variable)"
   ]
  },
  {
   "cell_type": "markdown",
   "metadata": {},
   "source": [
    "- Display some text on the screen by using print."
   ]
  },
  {
   "cell_type": "code",
   "execution_count": 4,
   "metadata": {},
   "outputs": [
    {
     "name": "stdout",
     "output_type": "stream",
     "text": [
      "HelloWorld!\n"
     ]
    }
   ],
   "source": [
    "print(\"HelloWorld!\")"
   ]
  },
  {
   "cell_type": "markdown",
   "metadata": {},
   "source": [
    "- Display a string of text by saving the string to a variable, then printing the contents of that variable."
   ]
  },
  {
   "cell_type": "code",
   "execution_count": 2,
   "metadata": {},
   "outputs": [
    {
     "name": "stdout",
     "output_type": "stream",
     "text": [
      "HelloFriend\n"
     ]
    }
   ],
   "source": [
    "var = str(\"HelloFriend\")\n",
    "print(var)"
   ]
  },
  {
   "cell_type": "markdown",
   "metadata": {},
   "source": [
    "- Print a string that uses double quotation marks inside the string."
   ]
  },
  {
   "cell_type": "code",
   "execution_count": 6,
   "metadata": {},
   "outputs": [
    {
     "name": "stdout",
     "output_type": "stream",
     "text": [
      "I love \" Python\n"
     ]
    }
   ],
   "source": [
    "print('I love \" Python')"
   ]
  },
  {
   "cell_type": "markdown",
   "metadata": {},
   "source": [
    "- Print a string that uses an apostrophe (single quote) inside the string."
   ]
  },
  {
   "cell_type": "code",
   "execution_count": 28,
   "metadata": {},
   "outputs": [
    {
     "name": "stdout",
     "output_type": "stream",
     "text": [
      "I don't love ' C++\n"
     ]
    }
   ],
   "source": [
    "print(\"I don't love ' C++\")"
   ]
  },
  {
   "cell_type": "markdown",
   "metadata": {},
   "source": [
    "- Print a string that spans across multiple lines."
   ]
  },
  {
   "cell_type": "code",
   "execution_count": 16,
   "metadata": {},
   "outputs": [
    {
     "name": "stdout",
     "output_type": "stream",
     "text": [
      "I did\n",
      "this \n",
      "taskkk!!!\n"
     ]
    }
   ],
   "source": [
    "print('''I did\n",
    "this \n",
    "taskkk!!!''')"
   ]
  },
  {
   "cell_type": "code",
   "execution_count": 5,
   "metadata": {},
   "outputs": [
    {
     "name": "stdout",
     "output_type": "stream",
     "text": [
      "I did\n",
      "this\n",
      "taskkk!!! \n"
     ]
    }
   ],
   "source": [
    "print('I did\\nthis\\ntaskkk!!! ')"
   ]
  },
  {
   "cell_type": "markdown",
   "metadata": {},
   "source": [
    "- Print a one-line string that you have written out on multiple lines."
   ]
  },
  {
   "cell_type": "code",
   "execution_count": 17,
   "metadata": {},
   "outputs": [
    {
     "name": "stdout",
     "output_type": "stream",
     "text": [
      "Birds have wings\n"
     ]
    }
   ],
   "source": [
    "print (\"Birds \\\n",
    "have \\\n",
    "wings\")"
   ]
  },
  {
   "cell_type": "markdown",
   "metadata": {},
   "source": [
    "- Create a string and print its length using the `len()` function."
   ]
  },
  {
   "cell_type": "code",
   "execution_count": 18,
   "metadata": {},
   "outputs": [
    {
     "name": "stdout",
     "output_type": "stream",
     "text": [
      "4\n"
     ]
    }
   ],
   "source": [
    "name = str(\"John\")\n",
    "print(len(name))"
   ]
  },
  {
   "cell_type": "markdown",
   "metadata": {},
   "source": [
    "- Create two strings, concatenate them (add them next to each other) and print the combination of the two strings."
   ]
  },
  {
   "cell_type": "code",
   "execution_count": 7,
   "metadata": {},
   "outputs": [
    {
     "name": "stdout",
     "output_type": "stream",
     "text": [
      "Roses are red\n"
     ]
    }
   ],
   "source": [
    "name1 = str(\"Roses\")\n",
    "name2 = str(\" are red\")\n",
    "print(name1 + name2)"
   ]
  },
  {
   "cell_type": "markdown",
   "metadata": {},
   "source": [
    "- Create two string variables, then print one of them after the other (with a space added in between) using a comma in your print statement."
   ]
  },
  {
   "cell_type": "code",
   "execution_count": 1,
   "metadata": {},
   "outputs": [
    {
     "name": "stdout",
     "output_type": "stream",
     "text": [
      "Programmer Broda\n"
     ]
    }
   ],
   "source": [
    "var1 = str(\"Programmer\")\n",
    "var2 = str(\"Broda\")\n",
    "print(var1,var2)"
   ]
  },
  {
   "cell_type": "markdown",
   "metadata": {},
   "source": [
    "- Print the string \"zing\" by using subscripting and index numbers on the string \"bazinga\" to specify the correct range of characters."
   ]
  },
  {
   "cell_type": "code",
   "execution_count": 11,
   "metadata": {},
   "outputs": [
    {
     "name": "stdout",
     "output_type": "stream",
     "text": [
      "zing\n"
     ]
    }
   ],
   "source": [
    "smt = \"bazinga\"\n",
    "print(smt[2:6])"
   ]
  },
  {
   "cell_type": "markdown",
   "metadata": {},
   "source": [
    "- Write a script that takes input from the user and displays that input back."
   ]
  },
  {
   "cell_type": "code",
   "execution_count": 1,
   "metadata": {
    "cocalc": {
     "outputs": {
      "0": {
       "name": "input",
       "opts": {
        "password": false,
        "prompt": "What's your name?"
       },
       "output_type": "stream",
       "value": "Andrew"
      }
     }
    }
   },
   "outputs": [
    {
     "name": "stdout",
     "output_type": "stream",
     "text": [
      "What's your name?Andrew\n",
      "User name is: Andrew\n"
     ]
    }
   ],
   "source": [
    "name = input(\"What's your name?\")\n",
    "print(\"User name is:\",name)"
   ]
  },
  {
   "cell_type": "markdown",
   "metadata": {},
   "source": [
    "- View all the methods of a string object, then write a script that returns the lower-case version of a string."
   ]
  },
  {
   "cell_type": "code",
   "execution_count": 2,
   "metadata": {},
   "outputs": [
    {
     "name": "stdout",
     "output_type": "stream",
     "text": [
      "object\n"
     ]
    }
   ],
   "source": [
    "word = str(\"OBJECT\")\n",
    "print(word.lower())"
   ]
  },
  {
   "cell_type": "markdown",
   "metadata": {},
   "source": [
    "- Create a string object that stores an integer as its value, then convert that string into an actual integer object using `int()` ; test that your new object is really a number by multiplying it by another number and displaying the result."
   ]
  },
  {
   "cell_type": "code",
   "execution_count": 8,
   "metadata": {},
   "outputs": [
    {
     "name": "stdout",
     "output_type": "stream",
     "text": [
      "50\n"
     ]
    }
   ],
   "source": [
    "inum = int(str(\"10\"))\n",
    "print(inum*5) "
   ]
  },
  {
   "cell_type": "markdown",
   "metadata": {},
   "source": [
    "- Repeat the previous exercise, but use a floating-point number and `float()`."
   ]
  },
  {
   "cell_type": "code",
   "execution_count": 10,
   "metadata": {},
   "outputs": [
    {
     "name": "stdout",
     "output_type": "stream",
     "text": [
      "50.5\n"
     ]
    }
   ],
   "source": [
    "snum = \"10.1\"\n",
    "fnum = float(snum)\n",
    "print(fnum*5)"
   ]
  },
  {
   "cell_type": "markdown",
   "metadata": {},
   "source": [
    "- Create a string object and an integer object, then display them side-by-side with a single print statement by using the `str()` function."
   ]
  },
  {
   "cell_type": "code",
   "execution_count": 9,
   "metadata": {},
   "outputs": [
    {
     "name": "stdout",
     "output_type": "stream",
     "text": [
      "Something 10\n"
     ]
    }
   ],
   "source": [
    "s_obj = str(\"Something\")\n",
    "num = int(10)\n",
    "snum = str(num)\n",
    "print(s_obj,snum)"
   ]
  },
  {
   "cell_type": "markdown",
   "metadata": {},
   "source": [
    "- Create a \"float\" object (a decimal number) named `weight` that holds the value 0.2, and create a string object named `animal` that holds the value \"newt\", then use these objects to print the following line without using the `format()` string method: 0.2 kg is the weight of the newt."
   ]
  },
  {
   "cell_type": "code",
   "execution_count": 44,
   "metadata": {},
   "outputs": [
    {
     "name": "stdout",
     "output_type": "stream",
     "text": [
      "0.2 kg is the weight of the newt\n"
     ]
    }
   ],
   "source": [
    "weight = float(0.2)\n",
    "animal = str(\"newt\")\n",
    "print(weight,\"kg is the weight of the\",animal)"
   ]
  },
  {
   "cell_type": "markdown",
   "metadata": {},
   "source": [
    "- Display the same line using `format()` and empty `{}` place-holders."
   ]
  },
  {
   "cell_type": "code",
   "execution_count": 2,
   "metadata": {},
   "outputs": [
    {
     "name": "stdout",
     "output_type": "stream",
     "text": [
      "0.2 kg is the weight of the newt\n"
     ]
    }
   ],
   "source": [
    "weight = float(0.2)\n",
    "animal = \"newt\"\n",
    "print(\"{} kg is the weight of the {}\".format(weight,animal))"
   ]
  },
  {
   "cell_type": "markdown",
   "metadata": {},
   "source": [
    "- Display the same line using `{}` place-holders that use the index numbers of the inputs provided to the format() method."
   ]
  },
  {
   "cell_type": "code",
   "execution_count": 1,
   "metadata": {},
   "outputs": [
    {
     "name": "stdout",
     "output_type": "stream",
     "text": [
      "0.2 kg is the weight of the newt\n"
     ]
    }
   ],
   "source": [
    "weight = float(0.2) \n",
    "animal = \"newt\"\n",
    "print(\"{0} kg is the weight of the {1}\".format(weight,animal))"
   ]
  },
  {
   "cell_type": "markdown",
   "metadata": {},
   "source": [
    "- Display the same line by creating new string and float objects inside of the `format()` method."
   ]
  },
  {
   "cell_type": "code",
   "execution_count": 3,
   "metadata": {},
   "outputs": [
    {
     "name": "stdout",
     "output_type": "stream",
     "text": [
      "0.2 kg is the weight of the newt\n"
     ]
    }
   ],
   "source": [
    "weight = float(0.2)\n",
    "animal = \"newt\"\n",
    "print(\"{wei} kg is the weight of the {ani}\".format(wei = weight, ani = animal))"
   ]
  },
  {
   "cell_type": "markdown",
   "metadata": {},
   "source": [
    "- Display the same line by creating a formatted string literal that directly uses the `weight` and `animal` variables."
   ]
  },
  {
   "cell_type": "code",
   "execution_count": 7,
   "metadata": {},
   "outputs": [
    {
     "name": "stdout",
     "output_type": "stream",
     "text": [
      "0.2 kg is the weight of the newt\n"
     ]
    }
   ],
   "source": [
    "newVar = {\n",
    "    'weight' : 0.2,  'animal' : 'newt'\n",
    "}\n",
    "print (\"{var[weight]} kg is the weight of the {var[animal]}\".format(var = newVar))"
   ]
  },
  {
   "cell_type": "markdown",
   "metadata": {},
   "source": [
    "- In one line, display the result of trying to `find()` the substring \"a\" in the string \"AAA\"; the result should be -1."
   ]
  },
  {
   "cell_type": "code",
   "execution_count": 9,
   "metadata": {},
   "outputs": [
    {
     "name": "stdout",
     "output_type": "stream",
     "text": [
      "-1\n"
     ]
    }
   ],
   "source": [
    "s = \"AAA\"\n",
    "print (s.find('a'))"
   ]
  },
  {
   "cell_type": "markdown",
   "metadata": {},
   "source": [
    "- Create a string object that contains the value \"version 2.0\"; `find()` the first occurrence of the number 2.0 inside of this string by first creating a \"float\" object that stores the value 2.0 as a floating-point number, then converting that object to a string using the `str()` function."
   ]
  },
  {
   "cell_type": "code",
   "execution_count": 13,
   "metadata": {},
   "outputs": [
    {
     "name": "stdout",
     "output_type": "stream",
     "text": [
      "8\n",
      "2.0\n",
      "<class 'str'>\n"
     ]
    }
   ],
   "source": [
    "v = \"version 2.0\"\n",
    "a = v.find('2.0')\n",
    "f = float(v[8])\n",
    "s = str(f)\n",
    "print(a)\n",
    "print(s)\n",
    "print(type(s))"
   ]
  },
  {
   "cell_type": "markdown",
   "metadata": {},
   "source": [
    "- Write and test a script that accepts user input using `input()`, then displays the result of trying to `find()` a particular letter in that input."
   ]
  },
  {
   "cell_type": "code",
   "execution_count": 14,
   "metadata": {
    "cocalc": {
     "outputs": {
      "0": {
       "name": "input",
       "opts": {
        "password": false,
        "prompt": "Write something: "
       },
       "output_type": "stream",
       "value": "Baku"
      }
     }
    },
    "scrolled": true
   },
   "outputs": [
    {
     "name": "stdout",
     "output_type": "stream",
     "text": [
      "Write something: Not Bad\n",
      "5\n"
     ]
    }
   ],
   "source": [
    "inform = input (\"Write something: \")\n",
    "print(inform.find('a'))"
   ]
  },
  {
   "cell_type": "markdown",
   "metadata": {},
   "source": [
    "## Pick apart your user's input\n",
    "Write a script that first prompts the user for input by using the string: `Tell me your password:`\n",
    "\n",
    "The script should then determine the first letter of the user's input, convert that letter to upper-case, and display it back. As an example, if the user input was \"no\" then the program should respond like this: The first letter you entered was: N\n",
    "\n",
    "For now, it's okay if your program crashes when the user enters nothing as input (just hitting ENTER instead)."
   ]
  },
  {
   "cell_type": "code",
   "execution_count": 1,
   "metadata": {
    "cocalc": {
     "outputs": {
      "0": {
       "name": "input",
       "opts": {
        "password": false,
        "prompt": "Tell me your password:"
       },
       "output_type": "stream",
       "value": "no"
      }
     }
    }
   },
   "outputs": [
    {
     "name": "stdout",
     "output_type": "stream",
     "text": [
      "Tell me your password: noThe first letter you entered was: N\n"
     ]
    }
   ],
   "source": [
    "Pass = input(str(\"Tell me your password:\"))\n",
    "pasw = Pass[:1]\n",
    "print(\"The first letter you entered was:\",pasw.upper())"
   ]
  },
  {
   "cell_type": "markdown",
   "metadata": {},
   "source": [
    "## Turn your user into a l33t h4x0r\n",
    "**Leet** (укр. **літ**) (або \"1337\"), також відомий як **eleet** чи **leetspeak** (пропонований український варіант перекладу — **замісникі́вка**) — альтернативний стиль застосування мови, що використовується переважно в інтернеті. Використовуються різноманітні комбінації ASCII символів для заміни літер, що візуально можуть нагадувати справжні букви.\n",
    "\n",
    "Write a script that asks the user for some input with the following prompt: `Enter some text:`\n",
    "\n",
    "You should then use the `replace()` method to convert the text entered by the user into __[\"leetspeak\"](https://uk.wikipedia.org/wiki/Leet)__ by making the following changes to lower-case letters:\n",
    "\n",
    "- The letter: a becomes: 4\n",
    "- The letter: b becomes: 8\n",
    "- The letter: e becomes: 3\n",
    "- The letter: l becomes: 1\n",
    "- The letter: o becomes: 0\n",
    "- The letter: s becomes: 5\n",
    "- The letter: t becomes: 7\n",
    "\n",
    "Your program should then display the resulting output. A sample run of the program,\n",
    "with the user input in bold, is shown below:\n",
    "\n",
    "`>>> Enter some text: I like to eat eggs and spam.`\n",
    "\n",
    "`I 1ik3 70 347 3gg5 4nd 5p4m.`\n",
    "\n",
    "`>>>`"
   ]
  },
  {
   "cell_type": "code",
   "execution_count": 21,
   "metadata": {
    "cocalc": {
     "outputs": {
      "0": {
       "name": "input",
       "opts": {
        "password": false,
        "prompt": "Enter some text:"
       },
       "output_type": "stream",
       "value": "I like to eat eggs and spam"
      }
     }
    }
   },
   "outputs": [
    {
     "name": "stdout",
     "output_type": "stream",
     "text": [
      "Enter some text:Enter some text: I like to eat eggs and spam.\n",
      "En73r 50m3 73x7: I 1ik3 70 347 3gg5 4nd 5p4m.\n"
     ]
    }
   ],
   "source": [
    "inform = input(\"Enter some text:\")\n",
    "replacedStr = inform.replace('a','4')\n",
    "replacedStr1 = replacedStr.replace('b','8')\n",
    "replacedStr2 = replacedStr1.replace('e','3')\n",
    "replacedStr3 = replacedStr2.replace('l','1')\n",
    "replacedStr4 = replacedStr3.replace('o','0')\n",
    "replacedStr5 = replacedStr4.replace('s','5')\n",
    "replacedStr6 = replacedStr5.replace('t','7')\n",
    "print(replacedStr6)\n"
   ]
  },
  {
   "cell_type": "code",
   "execution_count": 23,
   "metadata": {
    "cocalc": {
     "outputs": {
      "0": {
       "name": "input",
       "opts": {
        "password": false,
        "prompt": "Enter some text: "
       },
       "output_type": "stream",
       "value": "I like to eat eggs and spam"
      }
     }
    }
   },
   "outputs": [
    {
     "name": "stdout",
     "output_type": "stream",
     "text": [
      "Enter some text: I like to eat eggs and spam.\n",
      "I 1ik3 70 347 3gg5 4nd 5p4m.\n"
     ]
    }
   ],
   "source": [
    "the_text = input( \"Enter some text: \" )\n",
    "the_text = the_text.replace(\"a\", \"4\").\n",
    "the_text = the_text.replace(\"b\", \"8\")\n",
    "the_text = the_text.replace(\"e\", \"3\")\n",
    "the_text = the_text.replace(\"l\", \"1\")\n",
    "the_text = the_text.replace(\"o\", \"0\")\n",
    "the_text = the_text.replace(\"s\", \"5\")\n",
    "the_text = the_text.replace(\"t\", \"7\")\n",
    "print(the_text)"
   ]
  },
  {
   "cell_type": "markdown",
   "metadata": {},
   "source": [
    "## Perform calculations on user input\n",
    "Write a script called that receives two numbers from the user and displays the result of taking the first number to the power of the second number. A sample run of the program should look like this (with example input that has been provided by the user included below):\n",
    "\n",
    "`>>>`\n",
    "\n",
    "`Enter a base: 1.2`\n",
    "\n",
    "`Enter an exponent: 3`\n",
    "\n",
    "`1.2 to the power of 3 = 1.728`\n",
    "\n",
    "`>>>`\n",
    "\n",
    "**Keep the following in mind:**\n",
    "\n",
    "1. In Python, x^y (x raised to the power y) is calculated by using the expression `x ** y`.\n",
    "2. Before you can do anything with the user's input, you will have to store the results of both calls to `input()` in new objects.\n",
    "3. The `input()` function returns a string object, so you will need to convert the user's input into numbers in order to do arithmetic on them.\n",
    "4. You should use the string `format()` method to print the result.\n",
    "5. You can assume that the user will enter actual numbers as input."
   ]
  },
  {
   "cell_type": "code",
   "execution_count": 25,
   "metadata": {
    "cocalc": {
     "outputs": {
      "0": {
       "name": "input",
       "opts": {
        "password": false,
        "prompt": "Input first number"
       },
       "output_type": "stream",
       "value": "1.2"
      },
      "1": {
       "name": "input",
       "opts": {
        "password": false,
        "prompt": "Input second number"
       },
       "output_type": "stream",
       "value": "2"
      }
     }
    }
   },
   "outputs": [
    {
     "name": "stdout",
     "output_type": "stream",
     "text": [
      "Enter a base: 1.2 \n",
      "Enter an exponent: 3\n",
      "1.2 to the power of 3.0 = 1.728\n"
     ]
    }
   ],
   "source": [
    "num1 = input (\"Enter a base: \")\n",
    "num2 = input (\"Enter an exponent: \")\n",
    "fnum1 = float(num1)\n",
    "fnum2 = float(num2)\n",
    "fres = fnum1 ** fnum2\n",
    "print (\"{} to the power of {} = {}\".format(fnum1,fnum2,round(fres,3)))"
   ]
  }
 ],
 "metadata": {
  "kernelspec": {
   "display_name": "Python 3",
   "language": "python",
   "name": "python3"
  },
  "language_info": {
   "codemirror_mode": {
    "name": "ipython",
    "version": 3
   },
   "file_extension": ".py",
   "mimetype": "text/x-python",
   "name": "python",
   "nbconvert_exporter": "python",
   "pygments_lexer": "ipython3",
   "version": "3.8.5"
  },
  "varInspector": {
   "cols": {
    "lenName": 16,
    "lenType": 16,
    "lenVar": 40
   },
   "kernels_config": {
    "python": {
     "delete_cmd_postfix": "",
     "delete_cmd_prefix": "del ",
     "library": "var_list.py",
     "varRefreshCmd": "print(var_dic_list())"
    },
    "r": {
     "delete_cmd_postfix": ") ",
     "delete_cmd_prefix": "rm(",
     "library": "var_list.r",
     "varRefreshCmd": "cat(var_dic_list()) "
    }
   },
   "types_to_exclude": [
    "module",
    "function",
    "builtin_function_or_method",
    "instance",
    "_Feature"
   ],
   "window_display": false
  }
 },
 "nbformat": 4,
 "nbformat_minor": 4
}
